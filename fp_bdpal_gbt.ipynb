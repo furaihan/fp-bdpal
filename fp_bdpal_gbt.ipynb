{
  "cells": [
    {
      "cell_type": "code",
      "source": [
        "!sudo add-apt-repository --remove ppa:vikoadi/ppa -y\n",
        "!sudo apt update"
      ],
      "metadata": {
        "colab": {
          "base_uri": "https://localhost:8080/"
        },
        "id": "TmS0rj1x7fwf",
        "outputId": "3575e198-ab48-4d49-e834-c4facfc8d53d"
      },
      "execution_count": 94,
      "outputs": [
        {
          "output_type": "stream",
          "name": "stdout",
          "text": [
            "Repository: 'deb https://ppa.launchpadcontent.net/vikoadi/ppa/ubuntu/ jammy main'\n",
            "Description:\n",
            "Contains :\n",
            "* KDE Connect Indicator for Ubuntu and elementary OS, for information please read http://vikoadi.blogspot.com\n",
            "* latest KDE Connect Package\n",
            "More info: https://launchpad.net/~vikoadi/+archive/ubuntu/ppa\n",
            "Removing repository.\n",
            "Hit:1 https://cloud.r-project.org/bin/linux/ubuntu jammy-cran40/ InRelease\n",
            "Hit:2 http://security.ubuntu.com/ubuntu jammy-security InRelease\n",
            "Hit:3 https://developer.download.nvidia.com/compute/cuda/repos/ubuntu2204/x86_64  InRelease\n",
            "Hit:4 http://archive.ubuntu.com/ubuntu jammy InRelease\n",
            "Get:5 http://archive.ubuntu.com/ubuntu jammy-updates InRelease [119 kB]\n",
            "Hit:6 http://archive.ubuntu.com/ubuntu jammy-backports InRelease\n",
            "Hit:7 https://ppa.launchpadcontent.net/c2d4u.team/c2d4u4.0+/ubuntu jammy InRelease\n",
            "Hit:8 https://ppa.launchpadcontent.net/deadsnakes/ppa/ubuntu jammy InRelease\n",
            "Hit:9 https://ppa.launchpadcontent.net/graphics-drivers/ppa/ubuntu jammy InRelease\n",
            "Hit:10 https://ppa.launchpadcontent.net/ubuntugis/ppa/ubuntu jammy InRelease\n",
            "Fetched 119 kB in 1s (85.8 kB/s)\n",
            "Reading package lists... Done\n",
            "Hit:1 http://security.ubuntu.com/ubuntu jammy-security InRelease\n",
            "Hit:2 https://cloud.r-project.org/bin/linux/ubuntu jammy-cran40/ InRelease\n",
            "Hit:3 https://developer.download.nvidia.com/compute/cuda/repos/ubuntu2204/x86_64  InRelease\n",
            "Hit:4 http://archive.ubuntu.com/ubuntu jammy InRelease\n",
            "Hit:5 http://archive.ubuntu.com/ubuntu jammy-updates InRelease\n",
            "Hit:6 http://archive.ubuntu.com/ubuntu jammy-backports InRelease\n",
            "Hit:7 https://ppa.launchpadcontent.net/c2d4u.team/c2d4u4.0+/ubuntu jammy InRelease\n",
            "Hit:8 https://ppa.launchpadcontent.net/deadsnakes/ppa/ubuntu jammy InRelease\n",
            "Hit:9 https://ppa.launchpadcontent.net/graphics-drivers/ppa/ubuntu jammy InRelease\n",
            "Hit:10 https://ppa.launchpadcontent.net/ubuntugis/ppa/ubuntu jammy InRelease\n",
            "Reading package lists... Done\n",
            "Building dependency tree... Done\n",
            "Reading state information... Done\n",
            "29 packages can be upgraded. Run 'apt list --upgradable' to see them.\n"
          ]
        }
      ]
    },
    {
      "cell_type": "code",
      "execution_count": 95,
      "metadata": {
        "colab": {
          "base_uri": "https://localhost:8080/"
        },
        "id": "EiwhF71WUiMO",
        "outputId": "9177207a-5be5-4a8d-f9fc-b9bf59029c76"
      },
      "outputs": [
        {
          "output_type": "stream",
          "name": "stdout",
          "text": [
            "Requirement already satisfied: pyspark in /usr/local/lib/python3.10/dist-packages (3.5.0)\n",
            "Requirement already satisfied: py4j==0.10.9.7 in /usr/local/lib/python3.10/dist-packages (from pyspark) (0.10.9.7)\n",
            "Requirement already satisfied: nltk in /usr/local/lib/python3.10/dist-packages (3.8.1)\n",
            "Requirement already satisfied: click in /usr/local/lib/python3.10/dist-packages (from nltk) (8.1.7)\n",
            "Requirement already satisfied: joblib in /usr/local/lib/python3.10/dist-packages (from nltk) (1.3.2)\n",
            "Requirement already satisfied: regex>=2021.8.3 in /usr/local/lib/python3.10/dist-packages (from nltk) (2023.6.3)\n",
            "Requirement already satisfied: tqdm in /usr/local/lib/python3.10/dist-packages (from nltk) (4.66.1)\n",
            "Requirement already satisfied: wordcloud in /usr/local/lib/python3.10/dist-packages (1.9.3)\n",
            "Requirement already satisfied: numpy>=1.6.1 in /usr/local/lib/python3.10/dist-packages (from wordcloud) (1.23.5)\n",
            "Requirement already satisfied: pillow in /usr/local/lib/python3.10/dist-packages (from wordcloud) (9.4.0)\n",
            "Requirement already satisfied: matplotlib in /usr/local/lib/python3.10/dist-packages (from wordcloud) (3.7.1)\n",
            "Requirement already satisfied: contourpy>=1.0.1 in /usr/local/lib/python3.10/dist-packages (from matplotlib->wordcloud) (1.2.0)\n",
            "Requirement already satisfied: cycler>=0.10 in /usr/local/lib/python3.10/dist-packages (from matplotlib->wordcloud) (0.12.1)\n",
            "Requirement already satisfied: fonttools>=4.22.0 in /usr/local/lib/python3.10/dist-packages (from matplotlib->wordcloud) (4.47.0)\n",
            "Requirement already satisfied: kiwisolver>=1.0.1 in /usr/local/lib/python3.10/dist-packages (from matplotlib->wordcloud) (1.4.5)\n",
            "Requirement already satisfied: packaging>=20.0 in /usr/local/lib/python3.10/dist-packages (from matplotlib->wordcloud) (23.2)\n",
            "Requirement already satisfied: pyparsing>=2.3.1 in /usr/local/lib/python3.10/dist-packages (from matplotlib->wordcloud) (3.1.1)\n",
            "Requirement already satisfied: python-dateutil>=2.7 in /usr/local/lib/python3.10/dist-packages (from matplotlib->wordcloud) (2.8.2)\n",
            "Requirement already satisfied: six>=1.5 in /usr/local/lib/python3.10/dist-packages (from python-dateutil>=2.7->matplotlib->wordcloud) (1.16.0)\n"
          ]
        }
      ],
      "source": [
        "!pip install pyspark\n",
        "!pip install nltk\n",
        "!pip install wordcloud"
      ]
    },
    {
      "cell_type": "code",
      "execution_count": 96,
      "metadata": {
        "id": "JpkIgQGOPiIH"
      },
      "outputs": [],
      "source": [
        "import gdown\n",
        "import os\n",
        "import re\n",
        "import nltk\n",
        "import pandas as pd\n",
        "import numpy as np\n",
        "import matplotlib.pyplot as plt\n",
        "import seaborn as sns\n",
        "from wordcloud import WordCloud\n",
        "from pyspark.sql import SparkSession\n",
        "from pyspark.sql.types import StructType, StructField, IntegerType, DoubleType, StringType, ArrayType\n",
        "from pyspark.sql.functions import col, udf, split, explode, size, array_remove, array_contains, regexp_replace, lower\n",
        "from pyspark.ml.feature import StopWordsRemover, Tokenizer, HashingTF, IDF, CountVectorizer, NGram\n",
        "from pyspark.ml.classification import GBTClassifier\n",
        "from pyspark.ml.evaluation import MulticlassClassificationEvaluator, BinaryClassificationEvaluator\n",
        "from pyspark.ml.feature import StringIndexer\n",
        "from pyspark.ml import Pipeline\n",
        "from pyspark.ml.tuning import CrossValidator, ParamGridBuilder\n",
        "from nltk import pos_tag\n",
        "from nltk.stem import WordNetLemmatizer\n",
        "from nltk.corpus import wordnet"
      ]
    },
    {
      "cell_type": "code",
      "execution_count": 97,
      "metadata": {
        "colab": {
          "base_uri": "https://localhost:8080/"
        },
        "id": "b4THyWQsOKPf",
        "outputId": "387669f9-d548-4893-c364-06953f20c62e"
      },
      "outputs": [
        {
          "output_type": "stream",
          "name": "stdout",
          "text": [
            "The file '/content/mental_health.csv' already exists.\n"
          ]
        }
      ],
      "source": [
        "file_id = '1w2c49UUWnZHbWZ_ryKaWGhIzSF7QuvYJ'\n",
        "url = f'https://drive.google.com/uc?id={file_id}'\n",
        "output_path = '/content/mental_health.csv'\n",
        "if not os.path.exists(output_path):\n",
        "    gdown.download(url, output_path, quiet=False)\n",
        "else:\n",
        "    print(f\"The file '{output_path}' already exists.\")"
      ]
    },
    {
      "cell_type": "code",
      "execution_count": 98,
      "metadata": {
        "id": "Pz_XuUKbVD50"
      },
      "outputs": [],
      "source": [
        "spark = SparkSession.builder.getOrCreate()\n",
        "spark = SparkSession.builder\\\n",
        "        .master(\"local\")\\\n",
        "        .appName(\"RDD\")\\\n",
        "        .config('spark.ui.port', '4050')\\\n",
        "        .config('spark.executor.memory', '4g')\\\n",
        "        .config('spark.driver.memory', '4g')\\\n",
        "        .getOrCreate()\n",
        "\n",
        "spark\n",
        "sc = spark.sparkContext\n",
        "sc.setCheckpointDir('checkpoint/')"
      ]
    },
    {
      "cell_type": "code",
      "execution_count": 99,
      "metadata": {
        "id": "kaZvn4Ctoyn9"
      },
      "outputs": [],
      "source": [
        "spark.conf.set(\"spark.sql.shuffle.partitions\", 16)\n",
        "spark.conf.set(\"spark.default.parallelism\", 16)\n",
        "spark.conf.set(\"spark.sql.autoBroadcastJoinThreshold\", 104857600)"
      ]
    },
    {
      "cell_type": "code",
      "execution_count": 100,
      "metadata": {
        "id": "2Pt4FfTnVNBL"
      },
      "outputs": [],
      "source": [
        "df = spark.read.csv(output_path, header=True, inferSchema=True)"
      ]
    },
    {
      "cell_type": "code",
      "execution_count": 101,
      "metadata": {
        "colab": {
          "base_uri": "https://localhost:8080/"
        },
        "id": "j8BaM7hKVRyE",
        "outputId": "eea4c98a-3983-495f-b61a-ff6ca36dfa0c"
      },
      "outputs": [
        {
          "output_type": "stream",
          "name": "stdout",
          "text": [
            "+--------------------+-----+\n",
            "|                text|label|\n",
            "+--------------------+-----+\n",
            "|dear american tee...|    0|\n",
            "|nothing look forw...|    1|\n",
            "|music recommendat...|    0|\n",
            "|im done trying fe...|    1|\n",
            "|worried  year old...|    1|\n",
            "+--------------------+-----+\n",
            "only showing top 5 rows\n",
            "\n"
          ]
        }
      ],
      "source": [
        "df.show(5)"
      ]
    },
    {
      "cell_type": "code",
      "execution_count": 102,
      "metadata": {
        "colab": {
          "base_uri": "https://localhost:8080/"
        },
        "id": "-zTa96nOWOzj",
        "outputId": "eca5a6cb-5df4-4534-ada5-beb78aa70907"
      },
      "outputs": [
        {
          "output_type": "stream",
          "name": "stdout",
          "text": [
            "+-------+--------------------+-------------------+\n",
            "|summary|                text|              label|\n",
            "+-------+--------------------+-------------------+\n",
            "|  count|               27977|              27977|\n",
            "|   mean|                NULL|0.49462058119169316|\n",
            "| stddev|                NULL| 0.4999799966498138|\n",
            "|    min|                    |                  0|\n",
            "|    max|zoomposting real ...|                  1|\n",
            "+-------+--------------------+-------------------+\n",
            "\n",
            "root\n",
            " |-- text: string (nullable = true)\n",
            " |-- label: integer (nullable = true)\n",
            "\n"
          ]
        }
      ],
      "source": [
        "# Display summary statistics for numerical columns\n",
        "df.describe().show()\n",
        "\n",
        "# Display the schema of the DataFrame\n",
        "df.printSchema()"
      ]
    },
    {
      "cell_type": "code",
      "execution_count": 103,
      "metadata": {
        "colab": {
          "base_uri": "https://localhost:8080/"
        },
        "id": "KChjBjs8CJpu",
        "outputId": "38918a14-a5fd-4c6a-d261-e3abd92394c6"
      },
      "outputs": [
        {
          "output_type": "stream",
          "name": "stdout",
          "text": [
            "Duplicate count: 5\n"
          ]
        }
      ],
      "source": [
        "duplicate_count = df.count() - df.dropDuplicates().count()\n",
        "print(\"Duplicate count:\", duplicate_count)"
      ]
    },
    {
      "cell_type": "code",
      "execution_count": 104,
      "metadata": {
        "id": "AJ25Ac4HFIOC"
      },
      "outputs": [],
      "source": [
        "df = df.dropDuplicates()"
      ]
    },
    {
      "cell_type": "code",
      "execution_count": 105,
      "metadata": {
        "id": "0kTW2EIcDNgl"
      },
      "outputs": [],
      "source": [
        "from pyspark.sql.functions import length, avg\n",
        "\n",
        "df = df.withColumn(\"length\", length(\"text\"))"
      ]
    },
    {
      "cell_type": "code",
      "execution_count": 106,
      "metadata": {
        "colab": {
          "base_uri": "https://localhost:8080/"
        },
        "id": "Sl3wGiO8FTJd",
        "outputId": "5a250808-1c35-4a70-9efb-5137ab89232c"
      },
      "outputs": [
        {
          "output_type": "execute_result",
          "data": {
            "text/plain": [
              "136"
            ]
          },
          "metadata": {},
          "execution_count": 106
        }
      ],
      "source": [
        "df_gede = df.filter(col('length') >= 4096)\n",
        "df_gede.count()"
      ]
    },
    {
      "cell_type": "code",
      "execution_count": 107,
      "metadata": {
        "id": "aldI3ZAcGvtD"
      },
      "outputs": [],
      "source": [
        "df = df.subtract(df_gede)"
      ]
    },
    {
      "cell_type": "code",
      "execution_count": 108,
      "metadata": {
        "colab": {
          "base_uri": "https://localhost:8080/"
        },
        "id": "aID4kD10G75B",
        "outputId": "915ca4bf-cca5-40eb-80a5-ba19d28812c0"
      },
      "outputs": [
        {
          "output_type": "stream",
          "name": "stdout",
          "text": [
            "+-------+--------------------+-------------------+-----------------+\n",
            "|summary|                text|              label|           length|\n",
            "+-------+--------------------+-------------------+-----------------+\n",
            "|  count|               27836|              27836|            27836|\n",
            "|   mean|                NULL|   0.49285098433683|436.9363414283661|\n",
            "| stddev|                NULL|0.49995786946205906|542.3475517942358|\n",
            "|    min|                    |                  0|                2|\n",
            "|    max|zoomposting real ...|                  1|             4087|\n",
            "+-------+--------------------+-------------------+-----------------+\n",
            "\n"
          ]
        }
      ],
      "source": [
        "df.describe().show()"
      ]
    },
    {
      "cell_type": "code",
      "execution_count": 109,
      "metadata": {
        "colab": {
          "base_uri": "https://localhost:8080/",
          "height": 521
        },
        "id": "3URrMLnDVSnq",
        "outputId": "60316a83-1327-4b0a-94f1-392c352f3261"
      },
      "outputs": [
        {
          "output_type": "display_data",
          "data": {
            "text/plain": [
              "<Figure size 800x600 with 1 Axes>"
            ],
            "image/png": "[encoded data removed]"
          },
          "metadata": {}
        }
      ],
      "source": [
        "# Assuming 'label' is a boolean column in your DataFrame\n",
        "sarcastic_counts = df.groupBy(\"label\").count().collect()\n",
        "\n",
        "# Extract counts\n",
        "non_sarcastic_count = sarcastic_counts[0][\"count\"]\n",
        "sarcastic_count = sarcastic_counts[1][\"count\"]\n",
        "\n",
        "# Prepare data for pie chart\n",
        "labels = ['Poison', 'Non Poison']\n",
        "sizes = [non_sarcastic_count, sarcastic_count]\n",
        "colors = ['#ff9999', '#66b3ff']\n",
        "\n",
        "# Plot pie chart\n",
        "plt.figure(figsize=(8, 6))\n",
        "plt.pie(sizes, labels=labels, autopct='%1.0f%%', colors=colors)\n",
        "plt.title('Poison vs Non-poison')\n",
        "\n",
        "# Display the pie chart\n",
        "plt.show()\n"
      ]
    },
    {
      "cell_type": "code",
      "execution_count": 110,
      "metadata": {
        "id": "d5G2rv_Udya4"
      },
      "outputs": [],
      "source": [
        "def extract_text(text):\n",
        "    # Add more patterns as needed\n",
        "    patterns = {\n",
        "      r\"\\bim\\b\": \"i am\",\n",
        "      r\"\\byoure\\b\": \"you are\",\n",
        "      r\"\\bhes\\b\": \"he is\",\n",
        "      r\"\\bshes\\b\": \"she is\",\n",
        "      r\"\\bwere\\b\": \"we are\",\n",
        "      r\"\\btheyre\\b\": \"they are\",\n",
        "      r\"\\bive\\b\": \"i have\",\n",
        "      r\"\\byouve\\b\": \"you have\",\n",
        "      r\"\\bweve\\b\": \"we have\",\n",
        "      r\"\\btheyve\\b\": \"they have\",\n",
        "      r\"\\bwasnt\\b\": \"was not\",\n",
        "      r\"\\bwont\\b\": \"will not\",\n",
        "      r\"\\bcant\\b\": \"cannot\",\n",
        "      r\"\\bdont\\b\": \"do not\",\n",
        "      r\"\\bdoesnt\\b\": \"does not\",\n",
        "      r\"\\bdidnt\\b\": \"did not\",\n",
        "      r\"\\bhavent\\b\": \"have not\",\n",
        "      r\"\\bhasnt\\b\": \"has not\",\n",
        "      r\"\\bhadnt\\b\": \"had not\",\n",
        "      r\"\\barent\\b\": \"are not\",\n",
        "      r\"\\bwerent\\b\": \"were not\",\n",
        "      r\"\\bisnt\\b\": \"is not\",\n",
        "      r\"\\byoull\\b\": \"you will\",\n",
        "      r\"\\bwell\\b\": \"we will\",\n",
        "      r\"\\btheyll\\b\": \"they will\",\n",
        "      r\"\\bill\\b\": \"i will\",\n",
        "      r\"\\bhell\\b\": \"he will\",\n",
        "      r\"\\bshell\\b\": \"she will\",\n",
        "      r\"\\bitll\\b\": \"it will\",\n",
        "      r\"\\bshed\\b\": \"she would\",\n",
        "      r\"\\bhed\\b\": \"he would\",\n",
        "      r\"\\bid\\b\": \"i would\",\n",
        "      r\"\\byoud\\b\": \"you would\",\n",
        "      r\"\\bwed\\b\": \"we would\",\n",
        "      r\"\\btheyd\\b\": \"they would\",\n",
        "      r\"\\bcouldve\\b\": \"could have\",\n",
        "      r\"\\bshouldve\\b\": \"should have\",\n",
        "      r\"\\bwouldve\\b\": \"would have\",\n",
        "      r\"\\bwhos\\b\": \"who is\",\n",
        "      r\"\\bwhats\\b\": \"what is\",\n",
        "      r\"\\bwheres\\b\": \"where is\",\n",
        "      r\"\\bwhens\\b\": \"when is\",\n",
        "      r\"\\bwhys\\b\": \"why is\",\n",
        "      r\"\\bhows\\b\": \"how is\",\n",
        "      r\"\\bwhod\\b\": \"who would\",\n",
        "      r\"\\bwhatd\\b\": \"what would\",\n",
        "      r\"\\bwhered\\b\": \"where would\",\n",
        "      r\"\\bwhend\\b\": \"when would\",\n",
        "      r\"\\bwhyd\\b\": \"why would\",\n",
        "      r\"\\bhowd\\b\": \"how would\",\n",
        "      r\"\\bwholl\\b\": \"who will\",\n",
        "      r\"\\bwhatll\\b\": \"what will\",\n",
        "      r\"\\bwherell\\b\": \"where will\",\n",
        "      r\"\\bwhenll\\b\": \"when will\",\n",
        "      r\"\\bwhyll\\b\": \"why will\",\n",
        "      r\"\\bhowll\\b\": \"how will\",\n",
        "      r\"\\bwhore\\b\": \"who are\",\n",
        "      r\"\\bwhatre\\b\": \"what are\",\n",
        "      r\"\\bwherere\\b\": \"where are\",\n",
        "      r\"\\bwhenre\\b\": \"when are\",\n",
        "      r\"\\bwhyre\\b\": \"why are\",\n",
        "      r\"\\bhowre\\b\": \"how are\",\n",
        "      r\"\\bthats\\b\": \"that is\",\n",
        "      r\"\\bthiss\\b\": \"this is\",\n",
        "      r\"\\btheres\\b\": \"there is\",\n",
        "      r\"\\bheres\\b\": \"here is\",\n",
        "      r\"\\bits\\b\": \"it is\",\n",
        "      r\"\\bwhove\\b\": \"who have\",\n",
        "      r\"\\bwhatve\\b\": \"what have\",\n",
        "      r\"\\bwhereve\\b\": \"where have\",\n",
        "      r\"\\bwhenve\\b\": \"when have\",\n",
        "      r\"\\bwhyve\\b\": \"why have\",\n",
        "      r\"\\bhowve\\b\": \"how have\",\n",
        "      r\"\\bimma\\b\": \"i am going to\",\n",
        "      r\"\\bgonna\\b\": \"going to\",\n",
        "      r\"\\bgotta\\b\": \"got to\",\n",
        "      r\"\\bwanna\\b\": \"want to\",\n",
        "      r\"\\bhafta\\b\": \"have to\",\n",
        "      r\"\\bkinda\\b\": \"kind of\",\n",
        "      r\"\\bsorta\\b\": \"sort of\",\n",
        "      r\"\\blemme\\b\": \"let me\",\n",
        "      r\"\\boutta\\b\": \"out of\",\n",
        "      r\"\\bgotcha\\b\": \"got you\",\n",
        "      # add more contractions and their expanded forms\n",
        "    }\n",
        "\n",
        "    # Function to apply substitution to each token in the array\n",
        "    def process_token(token):\n",
        "       for pattern, replacement in patterns.items():\n",
        "           token = re.sub(pattern, replacement, token)\n",
        "       return token\n",
        "\n",
        "    processed_text = process_token(text)\n",
        "\n",
        "    return processed_text\n",
        "\n",
        "\n",
        "# Register the function as a UDF (User Defined Function)\n",
        "extract_text_udf = udf(extract_text, StringType())\n",
        "\n",
        "# Apply the UDF to the 'filtered_words' column (or the column you want to extract text from)\n",
        "df = df.withColumn('extracted_text', extract_text_udf('text'))\n"
      ]
    },
    {
      "cell_type": "code",
      "execution_count": 111,
      "metadata": {
        "id": "M4I7VbvpwPEp"
      },
      "outputs": [],
      "source": [
        "tokenizer = Tokenizer(inputCol=\"extracted_text\", outputCol=\"tokened\")\n",
        "df = tokenizer.transform(df)"
      ]
    },
    {
      "cell_type": "code",
      "execution_count": 112,
      "metadata": {
        "colab": {
          "base_uri": "https://localhost:8080/"
        },
        "id": "5IcDhphgYcOW",
        "outputId": "3dd811c5-0160-421a-bb35-ed1cc7182352"
      },
      "outputs": [
        {
          "output_type": "stream",
          "name": "stderr",
          "text": [
            "[nltk_data] Downloading package stopwords to /root/nltk_data...\n",
            "[nltk_data]   Package stopwords is already up-to-date!\n"
          ]
        }
      ],
      "source": [
        "nltk.download('stopwords')\n",
        "stopwords_remover = StopWordsRemover(inputCol=\"tokened\", outputCol=\"filtered\")\n",
        "\n",
        "# Fit and transform the DataFrame\n",
        "df = stopwords_remover.transform(df)\n"
      ]
    },
    {
      "cell_type": "code",
      "execution_count": 113,
      "metadata": {
        "colab": {
          "base_uri": "https://localhost:8080/"
        },
        "id": "ixvZC2yWfzk8",
        "outputId": "7751efce-2de1-44d4-c3cc-ce1bc4801d61"
      },
      "outputs": [
        {
          "output_type": "stream",
          "name": "stderr",
          "text": [
            "[nltk_data] Downloading package wordnet to /root/nltk_data...\n",
            "[nltk_data]   Package wordnet is already up-to-date!\n"
          ]
        }
      ],
      "source": [
        "nltk.download('wordnet')\n",
        "\n",
        "def penn2morphy(penntag):\n",
        "   \"\"\" Converts Penn Treebank tags to WordNet. \"\"\"\n",
        "   morphy_tag = {'NN':'n', 'JJ':'a', 'VB':'v', 'RB':'r'}\n",
        "   try:\n",
        "       return morphy_tag[penntag[:2]]\n",
        "   except:\n",
        "       return 'n'\n",
        "\n",
        "def lemmatize(words):\n",
        "   lemmatizer = WordNetLemmatizer()\n",
        "   return [lemmatizer.lemmatize(word.lower(), pos=penn2morphy(tag))\n",
        "           for word, tag in pos_tag(words)]\n",
        "\n",
        "lemmatize_udf = udf(lemmatize, ArrayType(StringType()))\n",
        "\n",
        "df = df.withColumn('lemmatized', lemmatize_udf(df['filtered']))"
      ]
    },
    {
      "cell_type": "code",
      "execution_count": 114,
      "metadata": {
        "colab": {
          "base_uri": "https://localhost:8080/"
        },
        "id": "ZVrMXe87Wisw",
        "outputId": "f8d0b37c-47ab-45ec-8e33-99eb33a486a7"
      },
      "outputs": [
        {
          "output_type": "stream",
          "name": "stderr",
          "text": [
            "[nltk_data] Downloading package averaged_perceptron_tagger to\n",
            "[nltk_data]     /root/nltk_data...\n",
            "[nltk_data]   Package averaged_perceptron_tagger is already up-to-\n",
            "[nltk_data]       date!\n"
          ]
        },
        {
          "output_type": "execute_result",
          "data": {
            "text/plain": [
              "True"
            ]
          },
          "metadata": {},
          "execution_count": 114
        }
      ],
      "source": [
        "nltk.download('averaged_perceptron_tagger')"
      ]
    },
    {
      "cell_type": "code",
      "execution_count": 115,
      "metadata": {
        "colab": {
          "base_uri": "https://localhost:8080/"
        },
        "id": "Z_9OdVTacdCN",
        "outputId": "c00db39a-cb4d-4146-8496-2c26b851ce0a"
      },
      "outputs": [
        {
          "output_type": "stream",
          "name": "stdout",
          "text": [
            "root\n",
            " |-- text: string (nullable = true)\n",
            " |-- label: integer (nullable = true)\n",
            " |-- length: integer (nullable = true)\n",
            " |-- extracted_text: string (nullable = true)\n",
            " |-- tokened: array (nullable = true)\n",
            " |    |-- element: string (containsNull = true)\n",
            " |-- filtered: array (nullable = true)\n",
            " |    |-- element: string (containsNull = true)\n",
            " |-- lemmatized: array (nullable = true)\n",
            " |    |-- element: string (containsNull = true)\n",
            "\n"
          ]
        }
      ],
      "source": [
        "df.printSchema()"
      ]
    },
    {
      "cell_type": "code",
      "execution_count": 116,
      "metadata": {
        "id": "6Wh5UU1Vg4o9"
      },
      "outputs": [],
      "source": [
        "def remove_empty_strings(array):\n",
        "   return [x for x in array if x != '']\n",
        "\n",
        "remove_empty_strings_udf = udf(remove_empty_strings, ArrayType(StringType()))\n",
        "\n",
        "df = df.withColumn(\"lemmatized\", remove_empty_strings_udf(df[\"lemmatized\"]))"
      ]
    },
    {
      "cell_type": "code",
      "execution_count": 117,
      "metadata": {
        "id": "YY4eB7wVdmUv"
      },
      "outputs": [],
      "source": [
        "#df_words = df.select(explode(\"lemmatized\").alias(\"word\"))\n",
        "\n",
        "# Filter out common words or stop words if necessary\n",
        "# You can use the 'stopwords' parameter in the WordCloud constructor\n",
        "\n",
        "# Convert the DataFrame to Pandas for WordCloud generation\n",
        "#wordcloud_data = df_words.groupBy(\"word\").count().toPandas()\n",
        "\n",
        "# Generate the WordCloud\n",
        "#wordcloud = WordCloud(width=800, height=400, background_color=\"black\").generate_from_frequencies(wordcloud_data.set_index(\"word\")[\"count\"].to_dict())\n",
        "\n",
        "# Display the WordCloud using Matplotlib\n",
        "#plt.figure(figsize=(10, 5))\n",
        "#plt.imshow(wordcloud, interpolation=\"bilinear\")\n",
        "#plt.axis(\"off\")\n",
        "#plt.show()"
      ]
    },
    {
      "cell_type": "markdown",
      "source": [
        "### Bigram Analyzer"
      ],
      "metadata": {
        "id": "N4__a9gnuuGl"
      }
    },
    {
      "cell_type": "code",
      "source": [
        "df = spark.createDataFrame(df.collect())"
      ],
      "metadata": {
        "id": "DdgM3Qpeutjz"
      },
      "execution_count": 118,
      "outputs": []
    },
    {
      "cell_type": "code",
      "source": [
        "positive_df = df.select('lemmatized').filter(col(\"label\") == 1)\n",
        "negative_df = df.select('lemmatized').filter(col(\"label\") == 0)"
      ],
      "metadata": {
        "id": "wr57aP0Lu8kM"
      },
      "execution_count": 131,
      "outputs": []
    },
    {
      "cell_type": "code",
      "source": [
        "ngram = NGram(n=2, inputCol=\"lemmatized\", outputCol=\"bigrams\")\n",
        "positive_bigrams = ngram.transform(positive_df)\n",
        "negative_bigrams = ngram.transform(negative_df)"
      ],
      "metadata": {
        "id": "lwRWV7QOyURm"
      },
      "execution_count": 132,
      "outputs": []
    },
    {
      "cell_type": "code",
      "source": [
        "result_positive = positive_bigrams\\\n",
        "                  .select(explode(\"bigrams\")\\\n",
        "                  .alias(\"bigram\"))\\\n",
        "                  .groupBy(\"bigram\")\\\n",
        "                  .count()\\\n",
        "                  .orderBy(col('count'), ascending=False)\n",
        "result_positive.show(10)"
      ],
      "metadata": {
        "colab": {
          "base_uri": "https://localhost:8080/"
        },
        "id": "lOkNcP6Oy3hZ",
        "outputId": "c3f0bcd7-fc0c-4356-b11d-2ac89aeef9ef"
      },
      "execution_count": 144,
      "outputs": [
        {
          "output_type": "stream",
          "name": "stdout",
          "text": [
            "+----------------+-----+\n",
            "|          bigram|count|\n",
            "+----------------+-----+\n",
            "|       feel like| 5490|\n",
            "|        want die| 1643|\n",
            "|       make feel|  933|\n",
            "|        year old|  905|\n",
            "|       every day|  869|\n",
            "|        get good|  853|\n",
            "|       want kill|  746|\n",
            "|        year ago|  718|\n",
            "|         get bad|  671|\n",
            "|suicidal thought|  659|\n",
            "+----------------+-----+\n",
            "only showing top 10 rows\n",
            "\n"
          ]
        }
      ]
    },
    {
      "cell_type": "code",
      "source": [
        "result_negative = negative_bigrams\\\n",
        "                  .select(explode(\"bigrams\")\\\n",
        "                  .alias(\"bigram\"))\\\n",
        "                  .groupBy(\"bigram\")\\\n",
        "                  .count()\\\n",
        "                  .orderBy(col('count'), ascending=False)\n",
        "result_negative.show(10)"
      ],
      "metadata": {
        "colab": {
          "base_uri": "https://localhost:8080/"
        },
        "id": "xiAUAWeW24tQ",
        "outputId": "181c0de2-7bae-450c-b61e-c9d902584aa0"
      },
      "execution_count": 145,
      "outputs": [
        {
          "output_type": "stream",
          "name": "stdout",
          "text": [
            "+---------------+-----+\n",
            "|         bigram|count|\n",
            "+---------------+-----+\n",
            "|  filler filler| 2889|\n",
            "|      feel like|  681|\n",
            "|          br br|  658|\n",
            "|gtpoplt gtpoplt|  328|\n",
            "|       year old|  305|\n",
            "|    even though|  262|\n",
            "|      look like|  240|\n",
            "|     first time|  234|\n",
            "|    best friend|  211|\n",
            "|    anyone want|  210|\n",
            "+---------------+-----+\n",
            "only showing top 10 rows\n",
            "\n"
          ]
        }
      ]
    },
    {
      "cell_type": "markdown",
      "source": [
        "### Trigram Analyzer"
      ],
      "metadata": {
        "id": "ZsvfHdSF3Eu0"
      }
    },
    {
      "cell_type": "code",
      "source": [
        "ngram = NGram(n=3, inputCol=\"lemmatized\", outputCol=\"bigrams\")\n",
        "positive_trigrams = ngram.transform(positive_df)\n",
        "negative_trigrams = ngram.transform(negative_df)"
      ],
      "metadata": {
        "id": "ZygnxXCk3EMv"
      },
      "execution_count": 146,
      "outputs": []
    },
    {
      "cell_type": "code",
      "source": [
        "result_positive = positive_trigrams\\\n",
        "                  .select(explode(\"bigrams\")\\\n",
        "                  .alias(\"bigram\"))\\\n",
        "                  .groupBy(\"bigram\")\\\n",
        "                  .count()\\\n",
        "                  .orderBy(col('count'), ascending=False)\n",
        "result_positive.show(10)"
      ],
      "metadata": {
        "colab": {
          "base_uri": "https://localhost:8080/"
        },
        "id": "L0zRT5s-3Ur6",
        "outputId": "db7defb5-83eb-4419-c8bf-778a98504f49"
      },
      "execution_count": 147,
      "outputs": [
        {
          "output_type": "stream",
          "name": "stdout",
          "text": [
            "+-----------------+-----+\n",
            "|           bigram|count|\n",
            "+-----------------+-----+\n",
            "|    want die want|  247|\n",
            "|   make feel like|  208|\n",
            "| every single day|  154|\n",
            "|   feel like shit|  134|\n",
            "|     feel like go|  130|\n",
            "|need someone talk|  122|\n",
            "|want live anymore|  116|\n",
            "|   life feel like|  109|\n",
            "|   thing get well|  105|\n",
            "|    want end life|  102|\n",
            "+-----------------+-----+\n",
            "only showing top 10 rows\n",
            "\n"
          ]
        }
      ]
    },
    {
      "cell_type": "code",
      "source": [
        "result_negative = negative_trigrams\\\n",
        "                  .select(explode(\"bigrams\")\\\n",
        "                  .alias(\"bigram\"))\\\n",
        "                  .groupBy(\"bigram\")\\\n",
        "                  .count()\\\n",
        "                  .orderBy(col('count'), ascending=False)\n",
        "result_negative.show(10)"
      ],
      "metadata": {
        "colab": {
          "base_uri": "https://localhost:8080/"
        },
        "id": "6KY3Aytu3arw",
        "outputId": "ed25c0d5-4e12-4ffd-e741-8117bc5b652c"
      },
      "execution_count": 148,
      "outputs": [
        {
          "output_type": "stream",
          "name": "stdout",
          "text": [
            "+--------------------+-----+\n",
            "|              bigram|count|\n",
            "+--------------------+-----+\n",
            "|filler filler filler| 2656|\n",
            "|gtpoplt gtpoplt g...|  326|\n",
            "|         eve eve eve|  167|\n",
            "|monitor monitor m...|  144|\n",
            "|      love love love|  121|\n",
            "|   click click click|  106|\n",
            "|         pee pee poo|   99|\n",
            "|       poo poo check|   99|\n",
            "|         pee poo poo|   99|\n",
            "|       check pee pee|   98|\n",
            "+--------------------+-----+\n",
            "only showing top 10 rows\n",
            "\n"
          ]
        }
      ]
    },
    {
      "cell_type": "markdown",
      "source": [
        "### Hashing TF-IDF"
      ],
      "metadata": {
        "id": "t93REkHp3VN3"
      }
    },
    {
      "cell_type": "code",
      "execution_count": 68,
      "metadata": {
        "id": "eAgcuHjUi0x8"
      },
      "outputs": [],
      "source": [
        "hashingTF = HashingTF(inputCol=\"lemmatized\", outputCol=\"rawFeatures\", numFeatures=4096)\n",
        "df = hashingTF.transform(df)\n",
        "\n",
        "idf = IDF(inputCol=\"rawFeatures\", outputCol=\"features\")\n",
        "idfModel = idf.fit(df)\n",
        "df = idfModel.transform(df)"
      ]
    },
    {
      "cell_type": "code",
      "execution_count": 69,
      "metadata": {
        "colab": {
          "base_uri": "https://localhost:8080/"
        },
        "id": "aVweGkxck5TM",
        "outputId": "e33c0a74-7526-4aac-eb86-da269d397258"
      },
      "outputs": [
        {
          "output_type": "stream",
          "name": "stdout",
          "text": [
            "+--------------------+-----+------+--------------------+--------------------+--------------------+--------------------+--------------------+--------------------+\n",
            "|                text|label|length|      extracted_text|             tokened|            filtered|          lemmatized|         rawFeatures|            features|\n",
            "+--------------------+-----+------+--------------------+--------------------+--------------------+--------------------+--------------------+--------------------+\n",
            "|music recommendat...|    0|   450|music recommendat...|[music, recommend...|[music, recommend...|[music, recommend...|(4096,[131,178,19...|(4096,[131,178,19...|\n",
            "|im done trying fe...|    1|   594|i am done trying ...|[i, am, done, try...|[done, trying, fe...|[do, try, feel, b...|(4096,[103,239,28...|(4096,[103,239,28...|\n",
            "|hey rredflag sure...|    1|   411|hey rredflag sure...|[hey, rredflag, s...|[hey, rredflag, s...|[hey, rredflag, s...|(4096,[39,46,62,2...|(4096,[39,46,62,2...|\n",
            "|trying rd time k ...|    0|    29|trying rd time k ...|[trying, rd, time...|[trying, rd, time...|[try, rd, time, k...|(4096,[95,613,273...|(4096,[95,613,273...|\n",
            "|got told im lot p...|    0|   141|got told i am lot...|[got, told, i, am...|[got, told, lot, ...|[get, tell, lot, ...|(4096,[353,433,45...|(4096,[353,433,45...|\n",
            "+--------------------+-----+------+--------------------+--------------------+--------------------+--------------------+--------------------+--------------------+\n",
            "only showing top 5 rows\n",
            "\n"
          ]
        }
      ],
      "source": [
        "df.show(5)"
      ]
    },
    {
      "cell_type": "code",
      "execution_count": 70,
      "metadata": {
        "id": "slD7U7_wme3U"
      },
      "outputs": [],
      "source": [
        "df = df.drop('tokened')\n",
        "df = df.drop('filtered')\n",
        "df = df.drop('lemmatized')\n",
        "df = df.drop('extracted_text')\n",
        "df = df.drop('length')"
      ]
    },
    {
      "cell_type": "code",
      "execution_count": 71,
      "metadata": {
        "colab": {
          "base_uri": "https://localhost:8080/"
        },
        "id": "2NyMkcH4mt-L",
        "outputId": "24b80de3-1304-43eb-ba11-6015c71bb6a9"
      },
      "outputs": [
        {
          "output_type": "stream",
          "name": "stdout",
          "text": [
            "+--------------------+-----+--------------------+--------------------+\n",
            "|                text|label|         rawFeatures|            features|\n",
            "+--------------------+-----+--------------------+--------------------+\n",
            "|music recommendat...|    0|(4096,[131,178,19...|(4096,[131,178,19...|\n",
            "|im done trying fe...|    1|(4096,[103,239,28...|(4096,[103,239,28...|\n",
            "|hey rredflag sure...|    1|(4096,[39,46,62,2...|(4096,[39,46,62,2...|\n",
            "|trying rd time k ...|    0|(4096,[95,613,273...|(4096,[95,613,273...|\n",
            "|got told im lot p...|    0|(4096,[353,433,45...|(4096,[353,433,45...|\n",
            "+--------------------+-----+--------------------+--------------------+\n",
            "only showing top 5 rows\n",
            "\n"
          ]
        }
      ],
      "source": [
        "df.show(5)"
      ]
    },
    {
      "cell_type": "code",
      "execution_count": 72,
      "metadata": {
        "id": "pqDYAeXlk6Sy"
      },
      "outputs": [],
      "source": [
        "(train, test) = df.randomSplit([0.8,0.2], seed=2023)"
      ]
    },
    {
      "cell_type": "code",
      "execution_count": 73,
      "metadata": {
        "id": "apQiniy5Hiw8"
      },
      "outputs": [],
      "source": [
        "train = spark.createDataFrame(train.collect())"
      ]
    },
    {
      "cell_type": "code",
      "execution_count": 74,
      "metadata": {
        "id": "HlXtCLGym0yz"
      },
      "outputs": [],
      "source": [
        "gb = GBTClassifier(labelCol = 'label', featuresCol = 'features', seed=2023, maxMemoryInMB=2048, checkpointInterval = 1)"
      ]
    },
    {
      "cell_type": "markdown",
      "metadata": {
        "id": "75UD4VHDPRUd"
      },
      "source": [
        "### Hyper Parameter Tuning"
      ]
    },
    {
      "cell_type": "code",
      "execution_count": 75,
      "metadata": {
        "id": "rQ9QE5lePJyg"
      },
      "outputs": [],
      "source": [
        "gb.setMaxIter(200);\n",
        "gb.setStepSize(0.030);\n",
        "gb.setSubsamplingRate(0.6);\n",
        "gb.setMaxDepth(5);\n",
        "gb.setMaxBins(32);\n",
        "gb.setFeatureSubsetStrategy('auto');"
      ]
    },
    {
      "cell_type": "code",
      "execution_count": 76,
      "metadata": {
        "id": "7YTzl7oFwJZs"
      },
      "outputs": [],
      "source": [
        "model = gb.fit(train)"
      ]
    },
    {
      "cell_type": "code",
      "execution_count": 77,
      "metadata": {
        "id": "aVvK6efZwLXz"
      },
      "outputs": [],
      "source": [
        "predictions = model.transform(test)"
      ]
    },
    {
      "cell_type": "code",
      "execution_count": 78,
      "metadata": {
        "id": "K6xdlB45qC-T",
        "colab": {
          "base_uri": "https://localhost:8080/"
        },
        "outputId": "60a6f7b2-7e2e-4f48-ed0b-3868c260b709"
      },
      "outputs": [
        {
          "output_type": "stream",
          "name": "stdout",
          "text": [
            "+--------------------+-----+--------------------+--------------------+--------------------+--------------------+----------+\n",
            "|                text|label|         rawFeatures|            features|       rawPrediction|         probability|prediction|\n",
            "+--------------------+-----+--------------------+--------------------+--------------------+--------------------+----------+\n",
            "| anyone wanna cha...|    0|(4096,[237,316,35...|(4096,[237,316,35...|[0.67301585854262...|[0.79348010524299...|       0.0|\n",
            "| caliber put down...|    1|(4096,[175,358,41...|(4096,[175,358,41...|[0.78739729980847...|[0.82846604253336...|       0.0|\n",
            "| dollar sucky suc...|    0|(4096,[116,466,13...|(4096,[116,466,13...|[0.97724566921396...|[0.87593555129316...|       0.0|\n",
            "| hours i hopeim i...|    1|(4096,[109,125,12...|(4096,[109,125,12...|[-1.5330561202988...|[0.04452693696951...|       1.0|\n",
            "| hours much read ...|    1|(4096,[127,322,41...|(4096,[127,322,41...|[0.72251358446962...|[0.80923193041697...|       0.0|\n",
            "+--------------------+-----+--------------------+--------------------+--------------------+--------------------+----------+\n",
            "only showing top 5 rows\n",
            "\n"
          ]
        }
      ],
      "source": [
        "predictions.show(5)"
      ]
    },
    {
      "cell_type": "code",
      "execution_count": 79,
      "metadata": {
        "id": "ehQ_0pFfVnkf"
      },
      "outputs": [],
      "source": [
        "pred_result = predictions.collect()"
      ]
    },
    {
      "cell_type": "code",
      "execution_count": 80,
      "metadata": {
        "id": "B9CfgV5-Vppk"
      },
      "outputs": [],
      "source": [
        "pred_df = spark.createDataFrame(pred_result)"
      ]
    },
    {
      "cell_type": "code",
      "execution_count": 81,
      "metadata": {
        "id": "3kdOcyvEVq9i"
      },
      "outputs": [],
      "source": [
        "evaluator = MulticlassClassificationEvaluator(labelCol = 'label')"
      ]
    },
    {
      "cell_type": "code",
      "execution_count": 82,
      "metadata": {
        "id": "MlDNK4f3qI7K",
        "colab": {
          "base_uri": "https://localhost:8080/"
        },
        "outputId": "6c40959a-3cd7-470a-859d-fb437353d89d"
      },
      "outputs": [
        {
          "output_type": "stream",
          "name": "stdout",
          "text": [
            "Confusion Matrix:\n",
            "[3037, 0]\n",
            "[0, 2522]\n"
          ]
        }
      ],
      "source": [
        "# Extract labels and predictions as lists\n",
        "labels = labels = pred_df.select(\"label\").rdd.map(lambda x: x[0]).collect()\n",
        "predicted_labels = labels = pred_df.select(\"prediction\").rdd.map(lambda x: x[0]).collect()\n",
        "# Find unique labels\n",
        "unique_labels = sorted(set(labels + predicted_labels))\n",
        "\n",
        "# Create a confusion matrix\n",
        "conf_matrix = [[0] * len(unique_labels) for _ in range(len(unique_labels))]\n",
        "\n",
        "for true_label, pred_label in zip(labels, predicted_labels):\n",
        "    conf_matrix[int(true_label)][int(pred_label)] += 1\n",
        "\n",
        "# Display the confusion matrix\n",
        "print(\"Confusion Matrix:\")\n",
        "for row in conf_matrix:\n",
        "    print(row)"
      ]
    },
    {
      "cell_type": "code",
      "execution_count": 83,
      "metadata": {
        "id": "EYHmyJQSUbGM",
        "colab": {
          "base_uri": "https://localhost:8080/"
        },
        "outputId": "4408c49d-3aa9-45ef-97a3-49499811af82"
      },
      "outputs": [
        {
          "output_type": "stream",
          "name": "stdout",
          "text": [
            "Classification Report:\n",
            "Precision: 0.8632\n",
            "Recall: 0.8617\n",
            "F1 Score: 0.8614\n",
            "Accuracy: 0.8617\n"
          ]
        }
      ],
      "source": [
        "# Calculate precision, recall, F1 score, and accuracy\n",
        "precision = evaluator.evaluate(pred_df, {evaluator.metricName: \"weightedPrecision\"})\n",
        "recall = evaluator.evaluate(pred_df, {evaluator.metricName: \"weightedRecall\"})\n",
        "f1_score = evaluator.evaluate(pred_df, {evaluator.metricName: \"f1\"})\n",
        "accuracy = evaluator.evaluate(pred_df, {evaluator.metricName: \"accuracy\"})\n",
        "\n",
        "# Display the classification report\n",
        "print(\"Classification Report:\")\n",
        "print(f\"Precision: {precision:.4f}\")\n",
        "print(f\"Recall: {recall:.4f}\")\n",
        "print(f\"F1 Score: {f1_score:.4f}\")\n",
        "print(f\"Accuracy: {accuracy:.4f}\")"
      ]
    },
    {
      "cell_type": "code",
      "execution_count": 84,
      "metadata": {
        "id": "-NvOJGVYVyDX",
        "colab": {
          "base_uri": "https://localhost:8080/"
        },
        "outputId": "173d5582-1f6f-4d0f-9b7c-26dbe7c54cef"
      },
      "outputs": [
        {
          "output_type": "stream",
          "name": "stdout",
          "text": [
            "Area Under ROC: 0.9384637102309663\n"
          ]
        }
      ],
      "source": [
        "evaluator = BinaryClassificationEvaluator()\n",
        "auc = evaluator.evaluate(pred_df, {evaluator.metricName: \"areaUnderROC\"})\n",
        "print(\"Area Under ROC:\", auc)"
      ]
    },
    {
      "cell_type": "markdown",
      "metadata": {
        "id": "rbraxQqtFhAS"
      },
      "source": [
        "# Result"
      ]
    },
    {
      "cell_type": "code",
      "execution_count": 85,
      "metadata": {
        "id": "OifcTN0y8GLH"
      },
      "outputs": [],
      "source": [
        "# create predict one\n",
        "def predict_one(text):\n",
        "    df_one = spark.createDataFrame([(text,)], ['text'])\n",
        "    # remove symbols with regex\n",
        "    df_one = df_one.withColumn('text', regexp_replace(col('text'), '[^\\sa-zA-Z0-9]', ''))\n",
        "    # lowercase\n",
        "    df_one = df_one.withColumn('text', lower(col('text')))\n",
        "    # extract text\n",
        "    df_one = df_one.withColumn('extracted_text', extract_text_udf('text'))\n",
        "    df_one = tokenizer.transform(df_one)\n",
        "    df_one = stopwords_remover.transform(df_one)\n",
        "    df_one = df_one.withColumn('lemmatized', lemmatize_udf(df_one['filtered']))\n",
        "    df_one = hashingTF.transform(df_one)\n",
        "    df_one = idfModel.transform(df_one)\n",
        "    return model.transform(df_one).collect()[0]['prediction']\n"
      ]
    },
    {
      "cell_type": "code",
      "execution_count": 86,
      "metadata": {
        "id": "nreSBTmr_CK-",
        "colab": {
          "base_uri": "https://localhost:8080/"
        },
        "outputId": "231520d1-dc80-4cf9-be30-65de2763a515"
      },
      "outputs": [
        {
          "output_type": "stream",
          "name": "stdout",
          "text": [
            "Enter a sentence: extremely extraordinary collectible\n",
            "The input suggests negative mental health\n"
          ]
        }
      ],
      "source": [
        "user_input = input(\"Enter a sentence: \")\n",
        "prediction = predict_one(user_input)\n",
        "if prediction == 1:\n",
        "    print(\"The input suggests positive mental health.\")\n",
        "else:\n",
        "    print(\"The input suggests negative mental health\")"
      ]
    },
    {
      "cell_type": "code",
      "execution_count": 88,
      "metadata": {
        "id": "FzTA0Q5b095w",
        "colab": {
          "base_uri": "https://localhost:8080/"
        },
        "outputId": "d3a94bb0-d379-4566-a73c-7b2e6651de25"
      },
      "outputs": [
        {
          "output_type": "stream",
          "name": "stdout",
          "text": [
            "Enter a sentence: i want to kill myself\n",
            "The input suggests positive mental health.\n"
          ]
        }
      ],
      "source": [
        "user_input = input(\"Enter a sentence: \")\n",
        "prediction = predict_one(user_input)\n",
        "if prediction == 1:\n",
        "    print(\"The input suggests positive mental health.\")\n",
        "else:\n",
        "    print(\"The input suggests negative mental health\")"
      ]
    },
    {
      "cell_type": "code",
      "source": [
        "model.save('model')"
      ],
      "metadata": {
        "id": "Z8M16Q3PtXtu"
      },
      "execution_count": 89,
      "outputs": []
    },
    {
      "cell_type": "code",
      "source": [
        "!zip -r model.zip model"
      ],
      "metadata": {
        "colab": {
          "base_uri": "https://localhost:8080/"
        },
        "id": "OjtEHcOdtaBW",
        "outputId": "48bfa630-4a91-43d3-836d-6854d7f4d143"
      },
      "execution_count": 90,
      "outputs": [
        {
          "output_type": "stream",
          "name": "stdout",
          "text": [
            "  adding: model/ (stored 0%)\n",
            "  adding: model/treesMetadata/ (stored 0%)\n",
            "  adding: model/treesMetadata/_SUCCESS (stored 0%)\n",
            "  adding: model/treesMetadata/part-00000-96da8635-37c0-4c58-aa30-5972bb1a2a44-c000.snappy.parquet (deflated 25%)\n",
            "  adding: model/treesMetadata/.part-00000-96da8635-37c0-4c58-aa30-5972bb1a2a44-c000.snappy.parquet.crc (stored 0%)\n",
            "  adding: model/treesMetadata/._SUCCESS.crc (stored 0%)\n",
            "  adding: model/metadata/ (stored 0%)\n",
            "  adding: model/metadata/_SUCCESS (stored 0%)\n",
            "  adding: model/metadata/.part-00000.crc (stored 0%)\n",
            "  adding: model/metadata/._SUCCESS.crc (stored 0%)\n",
            "  adding: model/metadata/part-00000 (deflated 49%)\n",
            "  adding: model/data/ (stored 0%)\n",
            "  adding: model/data/_SUCCESS (stored 0%)\n",
            "  adding: model/data/._SUCCESS.crc (stored 0%)\n",
            "  adding: model/data/.part-00000-cdf90b43-d811-4a5d-9a95-d910cb920b2c-c000.snappy.parquet.crc (stored 0%)\n",
            "  adding: model/data/part-00000-cdf90b43-d811-4a5d-9a95-d910cb920b2c-c000.snappy.parquet (deflated 7%)\n"
          ]
        }
      ]
    }
  ],
  "metadata": {
    "colab": {
      "provenance": []
    },
    "kernelspec": {
      "display_name": "Python 3",
      "name": "python3"
    },
    "language_info": {
      "name": "python"
    }
  },
  "nbformat": 4,
  "nbformat_minor": 0
}