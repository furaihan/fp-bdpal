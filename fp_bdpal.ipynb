{
  "nbformat": 4,
  "nbformat_minor": 0,
  "metadata": {
    "colab": {
      "provenance": []
    },
    "kernelspec": {
      "name": "python3",
      "display_name": "Python 3"
    },
    "language_info": {
      "name": "python"
    }
  },
  "cells": [
    {
      "cell_type": "code",
      "source": [
        "!pip install pyspark\n",
        "!pip install nltk\n",
        "!pip install wordcloud"
      ],
      "metadata": {
        "colab": {
          "base_uri": "https://localhost:8080/"
        },
        "id": "EiwhF71WUiMO",
        "outputId": "fe3f8709-a532-4b69-f36c-995337fe80d4"
      },
      "execution_count": 23,
      "outputs": [
        {
          "output_type": "stream",
          "name": "stdout",
          "text": [
            "Requirement already satisfied: pyspark in /usr/local/lib/python3.10/dist-packages (3.5.0)\n",
            "Requirement already satisfied: py4j==0.10.9.7 in /usr/local/lib/python3.10/dist-packages (from pyspark) (0.10.9.7)\n",
            "Requirement already satisfied: nltk in /usr/local/lib/python3.10/dist-packages (3.8.1)\n",
            "Requirement already satisfied: click in /usr/local/lib/python3.10/dist-packages (from nltk) (8.1.7)\n",
            "Requirement already satisfied: joblib in /usr/local/lib/python3.10/dist-packages (from nltk) (1.3.2)\n",
            "Requirement already satisfied: regex>=2021.8.3 in /usr/local/lib/python3.10/dist-packages (from nltk) (2023.6.3)\n",
            "Requirement already satisfied: tqdm in /usr/local/lib/python3.10/dist-packages (from nltk) (4.66.1)\n",
            "Requirement already satisfied: wordcloud in /usr/local/lib/python3.10/dist-packages (1.9.2)\n",
            "Requirement already satisfied: numpy>=1.6.1 in /usr/local/lib/python3.10/dist-packages (from wordcloud) (1.23.5)\n",
            "Requirement already satisfied: pillow in /usr/local/lib/python3.10/dist-packages (from wordcloud) (9.4.0)\n",
            "Requirement already satisfied: matplotlib in /usr/local/lib/python3.10/dist-packages (from wordcloud) (3.7.1)\n",
            "Requirement already satisfied: contourpy>=1.0.1 in /usr/local/lib/python3.10/dist-packages (from matplotlib->wordcloud) (1.2.0)\n",
            "Requirement already satisfied: cycler>=0.10 in /usr/local/lib/python3.10/dist-packages (from matplotlib->wordcloud) (0.12.1)\n",
            "Requirement already satisfied: fonttools>=4.22.0 in /usr/local/lib/python3.10/dist-packages (from matplotlib->wordcloud) (4.46.0)\n",
            "Requirement already satisfied: kiwisolver>=1.0.1 in /usr/local/lib/python3.10/dist-packages (from matplotlib->wordcloud) (1.4.5)\n",
            "Requirement already satisfied: packaging>=20.0 in /usr/local/lib/python3.10/dist-packages (from matplotlib->wordcloud) (23.2)\n",
            "Requirement already satisfied: pyparsing>=2.3.1 in /usr/local/lib/python3.10/dist-packages (from matplotlib->wordcloud) (3.1.1)\n",
            "Requirement already satisfied: python-dateutil>=2.7 in /usr/local/lib/python3.10/dist-packages (from matplotlib->wordcloud) (2.8.2)\n",
            "Requirement already satisfied: six>=1.5 in /usr/local/lib/python3.10/dist-packages (from python-dateutil>=2.7->matplotlib->wordcloud) (1.16.0)\n"
          ]
        }
      ]
    },
    {
      "cell_type": "code",
      "source": [
        "import gdown\n",
        "import os\n",
        "import pandas as pd\n",
        "import numpy as np\n",
        "import matplotlib.pyplot as plt\n",
        "import seaborn as sns\n",
        "from pyspark.sql import SparkSession"
      ],
      "metadata": {
        "id": "JpkIgQGOPiIH"
      },
      "execution_count": 24,
      "outputs": []
    },
    {
      "cell_type": "code",
      "execution_count": 25,
      "metadata": {
        "id": "b4THyWQsOKPf",
        "colab": {
          "base_uri": "https://localhost:8080/"
        },
        "outputId": "5066e18f-f460-4ab4-afb8-68985ab1574b"
      },
      "outputs": [
        {
          "output_type": "stream",
          "name": "stdout",
          "text": [
            "The file '/content/mental_health.csv' already exists.\n"
          ]
        }
      ],
      "source": [
        "file_id = '1w2c49UUWnZHbWZ_ryKaWGhIzSF7QuvYJ'\n",
        "url = f'https://drive.google.com/uc?id={file_id}'\n",
        "output_path = '/content/mental_health.csv'\n",
        "if not os.path.exists(output_path):\n",
        "    gdown.download(url, output_path, quiet=False)\n",
        "else:\n",
        "    print(f\"The file '{output_path}' already exists.\")"
      ]
    },
    {
      "cell_type": "code",
      "source": [
        "spark = SparkSession.builder.getOrCreate()\n",
        "spark = SparkSession.builder\\\n",
        "        .master(\"local\")\\\n",
        "        .appName(\"RDD\")\\\n",
        "        .config('spark.ui.port', '4050')\\\n",
        "        .getOrCreate()\n",
        "\n",
        "spark\n",
        "sc = spark.sparkContext\n",
        "sc.setCheckpointDir('checkpoint/')"
      ],
      "metadata": {
        "id": "Pz_XuUKbVD50"
      },
      "execution_count": 26,
      "outputs": []
    },
    {
      "cell_type": "code",
      "source": [
        "pandas_df = pd.read_csv(output_path)\n",
        "pandas_df.head()"
      ],
      "metadata": {
        "id": "avBiRPqpQCR6",
        "colab": {
          "base_uri": "https://localhost:8080/",
          "height": 206
        },
        "outputId": "5cbc61eb-06bd-49b9-ffe5-22f90e8a5a92"
      },
      "execution_count": 27,
      "outputs": [
        {
          "output_type": "execute_result",
          "data": {
            "text/plain": [
              "                                                text  label\n",
              "0  dear american teens question dutch person hear...      0\n",
              "1  nothing look forward lifei dont many reasons k...      1\n",
              "2  music recommendations im looking expand playli...      0\n",
              "3  im done trying feel betterthe reason im still ...      1\n",
              "4  worried  year old girl subject domestic physic...      1"
            ],
            "text/html": [
              "\n",
              "  <div id=\"df-d73ede40-88af-41e2-88c4-9e278a7724db\" class=\"colab-df-container\">\n",
              "    <div>\n",
              "<style scoped>\n",
              "    .dataframe tbody tr th:only-of-type {\n",
              "        vertical-align: middle;\n",
              "    }\n",
              "\n",
              "    .dataframe tbody tr th {\n",
              "        vertical-align: top;\n",
              "    }\n",
              "\n",
              "    .dataframe thead th {\n",
              "        text-align: right;\n",
              "    }\n",
              "</style>\n",
              "<table border=\"1\" class=\"dataframe\">\n",
              "  <thead>\n",
              "    <tr style=\"text-align: right;\">\n",
              "      <th></th>\n",
              "      <th>text</th>\n",
              "      <th>label</th>\n",
              "    </tr>\n",
              "  </thead>\n",
              "  <tbody>\n",
              "    <tr>\n",
              "      <th>0</th>\n",
              "      <td>dear american teens question dutch person hear...</td>\n",
              "      <td>0</td>\n",
              "    </tr>\n",
              "    <tr>\n",
              "      <th>1</th>\n",
              "      <td>nothing look forward lifei dont many reasons k...</td>\n",
              "      <td>1</td>\n",
              "    </tr>\n",
              "    <tr>\n",
              "      <th>2</th>\n",
              "      <td>music recommendations im looking expand playli...</td>\n",
              "      <td>0</td>\n",
              "    </tr>\n",
              "    <tr>\n",
              "      <th>3</th>\n",
              "      <td>im done trying feel betterthe reason im still ...</td>\n",
              "      <td>1</td>\n",
              "    </tr>\n",
              "    <tr>\n",
              "      <th>4</th>\n",
              "      <td>worried  year old girl subject domestic physic...</td>\n",
              "      <td>1</td>\n",
              "    </tr>\n",
              "  </tbody>\n",
              "</table>\n",
              "</div>\n",
              "    <div class=\"colab-df-buttons\">\n",
              "\n",
              "  <div class=\"colab-df-container\">\n",
              "    <button class=\"colab-df-convert\" onclick=\"convertToInteractive('df-d73ede40-88af-41e2-88c4-9e278a7724db')\"\n",
              "            title=\"Convert this dataframe to an interactive table.\"\n",
              "            style=\"display:none;\">\n",
              "\n",
              "  <svg xmlns=\"http://www.w3.org/2000/svg\" height=\"24px\" viewBox=\"0 -960 960 960\">\n",
              "    <path d=\"M120-120v-720h720v720H120Zm60-500h600v-160H180v160Zm220 220h160v-160H400v160Zm0 220h160v-160H400v160ZM180-400h160v-160H180v160Zm440 0h160v-160H620v160ZM180-180h160v-160H180v160Zm440 0h160v-160H620v160Z\"/>\n",
              "  </svg>\n",
              "    </button>\n",
              "\n",
              "  <style>\n",
              "    .colab-df-container {\n",
              "      display:flex;\n",
              "      gap: 12px;\n",
              "    }\n",
              "\n",
              "    .colab-df-convert {\n",
              "      background-color: #E8F0FE;\n",
              "      border: none;\n",
              "      border-radius: 50%;\n",
              "      cursor: pointer;\n",
              "      display: none;\n",
              "      fill: #1967D2;\n",
              "      height: 32px;\n",
              "      padding: 0 0 0 0;\n",
              "      width: 32px;\n",
              "    }\n",
              "\n",
              "    .colab-df-convert:hover {\n",
              "      background-color: #E2EBFA;\n",
              "      box-shadow: 0px 1px 2px rgba(60, 64, 67, 0.3), 0px 1px 3px 1px rgba(60, 64, 67, 0.15);\n",
              "      fill: #174EA6;\n",
              "    }\n",
              "\n",
              "    .colab-df-buttons div {\n",
              "      margin-bottom: 4px;\n",
              "    }\n",
              "\n",
              "    [theme=dark] .colab-df-convert {\n",
              "      background-color: #3B4455;\n",
              "      fill: #D2E3FC;\n",
              "    }\n",
              "\n",
              "    [theme=dark] .colab-df-convert:hover {\n",
              "      background-color: #434B5C;\n",
              "      box-shadow: 0px 1px 3px 1px rgba(0, 0, 0, 0.15);\n",
              "      filter: drop-shadow(0px 1px 2px rgba(0, 0, 0, 0.3));\n",
              "      fill: #FFFFFF;\n",
              "    }\n",
              "  </style>\n",
              "\n",
              "    <script>\n",
              "      const buttonEl =\n",
              "        document.querySelector('#df-d73ede40-88af-41e2-88c4-9e278a7724db button.colab-df-convert');\n",
              "      buttonEl.style.display =\n",
              "        google.colab.kernel.accessAllowed ? 'block' : 'none';\n",
              "\n",
              "      async function convertToInteractive(key) {\n",
              "        const element = document.querySelector('#df-d73ede40-88af-41e2-88c4-9e278a7724db');\n",
              "        const dataTable =\n",
              "          await google.colab.kernel.invokeFunction('convertToInteractive',\n",
              "                                                    [key], {});\n",
              "        if (!dataTable) return;\n",
              "\n",
              "        const docLinkHtml = 'Like what you see? Visit the ' +\n",
              "          '<a target=\"_blank\" href=https://colab.research.google.com/notebooks/data_table.ipynb>data table notebook</a>'\n",
              "          + ' to learn more about interactive tables.';\n",
              "        element.innerHTML = '';\n",
              "        dataTable['output_type'] = 'display_data';\n",
              "        await google.colab.output.renderOutput(dataTable, element);\n",
              "        const docLink = document.createElement('div');\n",
              "        docLink.innerHTML = docLinkHtml;\n",
              "        element.appendChild(docLink);\n",
              "      }\n",
              "    </script>\n",
              "  </div>\n",
              "\n",
              "\n",
              "<div id=\"df-1cb13a05-d2f8-4c39-903c-4a8b3a0eac78\">\n",
              "  <button class=\"colab-df-quickchart\" onclick=\"quickchart('df-1cb13a05-d2f8-4c39-903c-4a8b3a0eac78')\"\n",
              "            title=\"Suggest charts\"\n",
              "            style=\"display:none;\">\n",
              "\n",
              "<svg xmlns=\"http://www.w3.org/2000/svg\" height=\"24px\"viewBox=\"0 0 24 24\"\n",
              "     width=\"24px\">\n",
              "    <g>\n",
              "        <path d=\"M19 3H5c-1.1 0-2 .9-2 2v14c0 1.1.9 2 2 2h14c1.1 0 2-.9 2-2V5c0-1.1-.9-2-2-2zM9 17H7v-7h2v7zm4 0h-2V7h2v10zm4 0h-2v-4h2v4z\"/>\n",
              "    </g>\n",
              "</svg>\n",
              "  </button>\n",
              "\n",
              "<style>\n",
              "  .colab-df-quickchart {\n",
              "      --bg-color: #E8F0FE;\n",
              "      --fill-color: #1967D2;\n",
              "      --hover-bg-color: #E2EBFA;\n",
              "      --hover-fill-color: #174EA6;\n",
              "      --disabled-fill-color: #AAA;\n",
              "      --disabled-bg-color: #DDD;\n",
              "  }\n",
              "\n",
              "  [theme=dark] .colab-df-quickchart {\n",
              "      --bg-color: #3B4455;\n",
              "      --fill-color: #D2E3FC;\n",
              "      --hover-bg-color: #434B5C;\n",
              "      --hover-fill-color: #FFFFFF;\n",
              "      --disabled-bg-color: #3B4455;\n",
              "      --disabled-fill-color: #666;\n",
              "  }\n",
              "\n",
              "  .colab-df-quickchart {\n",
              "    background-color: var(--bg-color);\n",
              "    border: none;\n",
              "    border-radius: 50%;\n",
              "    cursor: pointer;\n",
              "    display: none;\n",
              "    fill: var(--fill-color);\n",
              "    height: 32px;\n",
              "    padding: 0;\n",
              "    width: 32px;\n",
              "  }\n",
              "\n",
              "  .colab-df-quickchart:hover {\n",
              "    background-color: var(--hover-bg-color);\n",
              "    box-shadow: 0 1px 2px rgba(60, 64, 67, 0.3), 0 1px 3px 1px rgba(60, 64, 67, 0.15);\n",
              "    fill: var(--button-hover-fill-color);\n",
              "  }\n",
              "\n",
              "  .colab-df-quickchart-complete:disabled,\n",
              "  .colab-df-quickchart-complete:disabled:hover {\n",
              "    background-color: var(--disabled-bg-color);\n",
              "    fill: var(--disabled-fill-color);\n",
              "    box-shadow: none;\n",
              "  }\n",
              "\n",
              "  .colab-df-spinner {\n",
              "    border: 2px solid var(--fill-color);\n",
              "    border-color: transparent;\n",
              "    border-bottom-color: var(--fill-color);\n",
              "    animation:\n",
              "      spin 1s steps(1) infinite;\n",
              "  }\n",
              "\n",
              "  @keyframes spin {\n",
              "    0% {\n",
              "      border-color: transparent;\n",
              "      border-bottom-color: var(--fill-color);\n",
              "      border-left-color: var(--fill-color);\n",
              "    }\n",
              "    20% {\n",
              "      border-color: transparent;\n",
              "      border-left-color: var(--fill-color);\n",
              "      border-top-color: var(--fill-color);\n",
              "    }\n",
              "    30% {\n",
              "      border-color: transparent;\n",
              "      border-left-color: var(--fill-color);\n",
              "      border-top-color: var(--fill-color);\n",
              "      border-right-color: var(--fill-color);\n",
              "    }\n",
              "    40% {\n",
              "      border-color: transparent;\n",
              "      border-right-color: var(--fill-color);\n",
              "      border-top-color: var(--fill-color);\n",
              "    }\n",
              "    60% {\n",
              "      border-color: transparent;\n",
              "      border-right-color: var(--fill-color);\n",
              "    }\n",
              "    80% {\n",
              "      border-color: transparent;\n",
              "      border-right-color: var(--fill-color);\n",
              "      border-bottom-color: var(--fill-color);\n",
              "    }\n",
              "    90% {\n",
              "      border-color: transparent;\n",
              "      border-bottom-color: var(--fill-color);\n",
              "    }\n",
              "  }\n",
              "</style>\n",
              "\n",
              "  <script>\n",
              "    async function quickchart(key) {\n",
              "      const quickchartButtonEl =\n",
              "        document.querySelector('#' + key + ' button');\n",
              "      quickchartButtonEl.disabled = true;  // To prevent multiple clicks.\n",
              "      quickchartButtonEl.classList.add('colab-df-spinner');\n",
              "      try {\n",
              "        const charts = await google.colab.kernel.invokeFunction(\n",
              "            'suggestCharts', [key], {});\n",
              "      } catch (error) {\n",
              "        console.error('Error during call to suggestCharts:', error);\n",
              "      }\n",
              "      quickchartButtonEl.classList.remove('colab-df-spinner');\n",
              "      quickchartButtonEl.classList.add('colab-df-quickchart-complete');\n",
              "    }\n",
              "    (() => {\n",
              "      let quickchartButtonEl =\n",
              "        document.querySelector('#df-1cb13a05-d2f8-4c39-903c-4a8b3a0eac78 button');\n",
              "      quickchartButtonEl.style.display =\n",
              "        google.colab.kernel.accessAllowed ? 'block' : 'none';\n",
              "    })();\n",
              "  </script>\n",
              "</div>\n",
              "    </div>\n",
              "  </div>\n"
            ]
          },
          "metadata": {},
          "execution_count": 27
        }
      ]
    },
    {
      "cell_type": "code",
      "source": [
        "from pyspark.sql.types import StructType, StructField, IntegerType, DoubleType, StringType\n",
        "\n",
        "schema = StructType([\n",
        "    StructField(\"text\", StringType(), True),\n",
        "    StructField(\"label\", IntegerType(), True)\n",
        "])\n",
        "\n",
        "df = spark.createDataFrame(pandas_df, schema=schema)"
      ],
      "metadata": {
        "id": "2Pt4FfTnVNBL"
      },
      "execution_count": 28,
      "outputs": []
    },
    {
      "cell_type": "code",
      "source": [
        "df.show(5)"
      ],
      "metadata": {
        "colab": {
          "base_uri": "https://localhost:8080/"
        },
        "id": "j8BaM7hKVRyE",
        "outputId": "7ed4e56d-efeb-4f24-bc72-4fbdadd128c4"
      },
      "execution_count": 29,
      "outputs": [
        {
          "output_type": "stream",
          "name": "stdout",
          "text": [
            "+--------------------+-----+\n",
            "|                text|label|\n",
            "+--------------------+-----+\n",
            "|dear american tee...|    0|\n",
            "|nothing look forw...|    1|\n",
            "|music recommendat...|    0|\n",
            "|im done trying fe...|    1|\n",
            "|worried  year old...|    1|\n",
            "+--------------------+-----+\n",
            "only showing top 5 rows\n",
            "\n"
          ]
        }
      ]
    },
    {
      "cell_type": "code",
      "source": [
        "# Display summary statistics for numerical columns\n",
        "df.describe().show()\n",
        "\n",
        "# Display the schema of the DataFrame\n",
        "df.printSchema()"
      ],
      "metadata": {
        "colab": {
          "base_uri": "https://localhost:8080/"
        },
        "id": "-zTa96nOWOzj",
        "outputId": "e86eaa7a-5db4-4c49-aeb4-3c21e728eff9"
      },
      "execution_count": 30,
      "outputs": [
        {
          "output_type": "stream",
          "name": "stdout",
          "text": [
            "+-------+--------------------+-------------------+\n",
            "|summary|                text|              label|\n",
            "+-------+--------------------+-------------------+\n",
            "|  count|               27977|              27977|\n",
            "|   mean|                NULL|0.49462058119169316|\n",
            "| stddev|                NULL|  0.499979996649814|\n",
            "|    min|                    |                  0|\n",
            "|    max|zoomposting real ...|                  1|\n",
            "+-------+--------------------+-------------------+\n",
            "\n",
            "root\n",
            " |-- text: string (nullable = true)\n",
            " |-- label: integer (nullable = true)\n",
            "\n"
          ]
        }
      ]
    },
    {
      "cell_type": "code",
      "source": [
        "from pyspark.sql.functions import col\n",
        "\n",
        "# Assuming 'label' is a boolean column in your DataFrame\n",
        "sarcastic_counts = df.groupBy(\"label\").count().collect()\n",
        "\n",
        "# Extract counts\n",
        "non_sarcastic_count = sarcastic_counts[0][\"count\"]\n",
        "sarcastic_count = sarcastic_counts[1][\"count\"]\n",
        "\n",
        "# Prepare data for pie chart\n",
        "labels = ['Poison', 'Non Poison']\n",
        "sizes = [non_sarcastic_count, sarcastic_count]\n",
        "colors = ['#ff9999', '#66b3ff']\n",
        "\n",
        "# Plot pie chart\n",
        "plt.figure(figsize=(8, 6))\n",
        "plt.pie(sizes, labels=labels, autopct='%1.0f%%', colors=colors)\n",
        "plt.title('Poison vs Non-poison')\n",
        "\n",
        "# Display the pie chart\n",
        "plt.show()\n"
      ],
      "metadata": {
        "colab": {
          "base_uri": "https://localhost:8080/",
          "height": 521
        },
        "id": "3URrMLnDVSnq",
        "outputId": "496ca12d-9e92-4c08-db90-af0050c95d36"
      },
      "execution_count": 31,
      "outputs": [
        {
          "output_type": "display_data",
          "data": {
            "text/plain": [
              "<Figure size 800x600 with 1 Axes>"
            ],
            "image/png": "[encoded data removed]"
          },
          "metadata": {}
        }
      ]
    },
    {
      "cell_type": "code",
      "source": [],
      "metadata": {
        "id": "PvWtFSRT48xr"
      },
      "execution_count": null,
      "outputs": []
    },
    {
      "cell_type": "code",
      "source": [
        "df.show(5)"
      ],
      "metadata": {
        "colab": {
          "base_uri": "https://localhost:8080/"
        },
        "id": "34w910eNYbJ6",
        "outputId": "92361e2e-3a91-4de6-f528-acb72b600576"
      },
      "execution_count": 32,
      "outputs": [
        {
          "output_type": "stream",
          "name": "stdout",
          "text": [
            "+--------------------+-----+\n",
            "|                text|label|\n",
            "+--------------------+-----+\n",
            "|dear american tee...|    0|\n",
            "|nothing look forw...|    1|\n",
            "|music recommendat...|    0|\n",
            "|im done trying fe...|    1|\n",
            "|worried  year old...|    1|\n",
            "+--------------------+-----+\n",
            "only showing top 5 rows\n",
            "\n"
          ]
        }
      ]
    },
    {
      "cell_type": "code",
      "source": [
        "from pyspark.sql.functions import udf\n",
        "from pyspark.sql.types import ArrayType, StringType\n",
        "import re\n",
        "\n",
        "def extract_text(text):\n",
        "    # Add more patterns as needed\n",
        "    patterns = {\n",
        "      r\"\\bim\\b\": \"i am\",\n",
        "      r\"\\byoure\\b\": \"you are\",\n",
        "      r\"\\bhes\\b\": \"he is\",\n",
        "      r\"\\bshes\\b\": \"she is\",\n",
        "      r\"\\bwere\\b\": \"we are\",\n",
        "      r\"\\btheyre\\b\": \"they are\",\n",
        "      r\"\\bive\\b\": \"i have\",\n",
        "      r\"\\byouve\\b\": \"you have\",\n",
        "      r\"\\bweve\\b\": \"we have\",\n",
        "      r\"\\btheyve\\b\": \"they have\",\n",
        "      r\"\\bwasnt\\b\": \"was not\",\n",
        "      r\"\\bwont\\b\": \"will not\",\n",
        "      r\"\\bcant\\b\": \"cannot\",\n",
        "      r\"\\bdont\\b\": \"do not\",\n",
        "      r\"\\bdoesnt\\b\": \"does not\",\n",
        "      r\"\\bdidnt\\b\": \"did not\",\n",
        "      r\"\\bhavent\\b\": \"have not\",\n",
        "      r\"\\bhasnt\\b\": \"has not\",\n",
        "      r\"\\bhadnt\\b\": \"had not\",\n",
        "      r\"\\barent\\b\": \"are not\",\n",
        "      r\"\\bwerent\\b\": \"were not\",\n",
        "      r\"\\bisnt\\b\": \"is not\",\n",
        "      r\"\\byoull\\b\": \"you will\",\n",
        "      r\"\\bwell\\b\": \"we will\",\n",
        "      r\"\\btheyll\\b\": \"they will\",\n",
        "      r\"\\bill\\b\": \"i will\",\n",
        "      r\"\\bhell\\b\": \"he will\",\n",
        "      r\"\\bshell\\b\": \"she will\",\n",
        "      r\"\\bitll\\b\": \"it will\",\n",
        "      r\"\\bshed\\b\": \"she would\",\n",
        "      r\"\\bhed\\b\": \"he would\",\n",
        "      r\"\\bid\\b\": \"i would\",\n",
        "      r\"\\byoud\\b\": \"you would\",\n",
        "      r\"\\bwed\\b\": \"we would\",\n",
        "      r\"\\btheyd\\b\": \"they would\",\n",
        "      r\"\\bcouldve\\b\": \"could have\",\n",
        "      r\"\\bshouldve\\b\": \"should have\",\n",
        "      r\"\\bwouldve\\b\": \"would have\",\n",
        "      r\"\\bwhos\\b\": \"who is\",\n",
        "      r\"\\bwhats\\b\": \"what is\",\n",
        "      r\"\\bwheres\\b\": \"where is\",\n",
        "      r\"\\bwhens\\b\": \"when is\",\n",
        "      r\"\\bwhys\\b\": \"why is\",\n",
        "      r\"\\bhows\\b\": \"how is\",\n",
        "      r\"\\bwhod\\b\": \"who would\",\n",
        "      r\"\\bwhatd\\b\": \"what would\",\n",
        "      r\"\\bwhered\\b\": \"where would\",\n",
        "      r\"\\bwhend\\b\": \"when would\",\n",
        "      r\"\\bwhyd\\b\": \"why would\",\n",
        "      r\"\\bhowd\\b\": \"how would\",\n",
        "      r\"\\bwholl\\b\": \"who will\",\n",
        "      r\"\\bwhatll\\b\": \"what will\",\n",
        "      r\"\\bwherell\\b\": \"where will\",\n",
        "      r\"\\bwhenll\\b\": \"when will\",\n",
        "      r\"\\bwhyll\\b\": \"why will\",\n",
        "      r\"\\bhowll\\b\": \"how will\",\n",
        "      r\"\\bwhore\\b\": \"who are\",\n",
        "      r\"\\bwhatre\\b\": \"what are\",\n",
        "      r\"\\bwherere\\b\": \"where are\",\n",
        "      r\"\\bwhenre\\b\": \"when are\",\n",
        "      r\"\\bwhyre\\b\": \"why are\",\n",
        "      r\"\\bhowre\\b\": \"how are\",\n",
        "      r\"\\bthats\\b\": \"that is\",\n",
        "      r\"\\bthiss\\b\": \"this is\",\n",
        "      r\"\\btheres\\b\": \"there is\",\n",
        "      r\"\\bheres\\b\": \"here is\",\n",
        "      r\"\\bits\\b\": \"it is\",\n",
        "      r\"\\bwhove\\b\": \"who have\",\n",
        "      r\"\\bwhatve\\b\": \"what have\",\n",
        "      r\"\\bwhereve\\b\": \"where have\",\n",
        "      r\"\\bwhenve\\b\": \"when have\",\n",
        "      r\"\\bwhyve\\b\": \"why have\",\n",
        "      r\"\\bhowve\\b\": \"how have\",\n",
        "      r\"\\bimma\\b\": \"i am going to\",\n",
        "      r\"\\bgonna\\b\": \"going to\",\n",
        "      r\"\\bgotta\\b\": \"got to\",\n",
        "      r\"\\bwanna\\b\": \"want to\",\n",
        "      r\"\\bhafta\\b\": \"have to\",\n",
        "      r\"\\bkinda\\b\": \"kind of\",\n",
        "      r\"\\bsorta\\b\": \"sort of\",\n",
        "      r\"\\blemme\\b\": \"let me\",\n",
        "      r\"\\boutta\\b\": \"out of\",\n",
        "      r\"\\bgotcha\\b\": \"got you\",\n",
        "      # add more contractions and their expanded forms\n",
        "    }\n",
        "\n",
        "    # Function to apply substitution to each token in the array\n",
        "    def process_token(token):\n",
        "       for pattern, replacement in patterns.items():\n",
        "           token = re.sub(pattern, replacement, token)\n",
        "       return token\n",
        "\n",
        "    processed_text = process_token(text)\n",
        "\n",
        "    return processed_text\n",
        "\n",
        "\n",
        "# Register the function as a UDF (User Defined Function)\n",
        "extract_text_udf = udf(extract_text, StringType())\n",
        "\n",
        "# Apply the UDF to the 'filtered_words' column (or the column you want to extract text from)\n",
        "df = df.withColumn('extracted_text', extract_text_udf('text'))\n"
      ],
      "metadata": {
        "id": "d5G2rv_Udya4"
      },
      "execution_count": 33,
      "outputs": []
    },
    {
      "cell_type": "code",
      "source": [
        "# Show the updated DataFrame\n",
        "df.show(15)"
      ],
      "metadata": {
        "colab": {
          "base_uri": "https://localhost:8080/"
        },
        "id": "RgK0dzNOwP7F",
        "outputId": "6567059b-3a67-4938-eb8e-4f734e5d57d8"
      },
      "execution_count": 34,
      "outputs": [
        {
          "output_type": "stream",
          "name": "stdout",
          "text": [
            "+--------------------+-----+--------------------+\n",
            "|                text|label|      extracted_text|\n",
            "+--------------------+-----+--------------------+\n",
            "|dear american tee...|    0|dear american tee...|\n",
            "|nothing look forw...|    1|nothing look forw...|\n",
            "|music recommendat...|    0|music recommendat...|\n",
            "|im done trying fe...|    1|i am done trying ...|\n",
            "|worried  year old...|    1|worried  year old...|\n",
            "|hey rredflag sure...|    1|hey rredflag sure...|\n",
            "|feel like someone...|    0|feel like someone...|\n",
            "|deserve liveif di...|    1|deserve liveif di...|\n",
            "|feels good ive se...|    1|feels good i have...|\n",
            "|live guiltok made...|    1|live guiltok made...|\n",
            "|excercise motivat...|    0|excercise motivat...|\n",
            "|know youd rather ...|    0|know you would ra...|\n",
            "|even time fuck  s...|    0|even time fuck  s...|\n",
            "|usual hollywood s...|    0|usual hollywood s...|\n",
            "|think it nearly u...|    0|think it nearly u...|\n",
            "+--------------------+-----+--------------------+\n",
            "only showing top 15 rows\n",
            "\n"
          ]
        }
      ]
    },
    {
      "cell_type": "code",
      "source": [
        "from pyspark.ml.feature import StopWordsRemover, Tokenizer\n",
        "\n",
        "tokenizer = Tokenizer(inputCol=\"extracted_text\", outputCol=\"tokened\")\n",
        "df = tokenizer.transform(df)"
      ],
      "metadata": {
        "id": "M4I7VbvpwPEp"
      },
      "execution_count": 35,
      "outputs": []
    },
    {
      "cell_type": "code",
      "source": [
        "df.show(15)"
      ],
      "metadata": {
        "colab": {
          "base_uri": "https://localhost:8080/"
        },
        "id": "zv0jFSoSdqB4",
        "outputId": "4c753682-ce06-468a-9fb0-7d0ea685d5d2"
      },
      "execution_count": 36,
      "outputs": [
        {
          "output_type": "stream",
          "name": "stdout",
          "text": [
            "+--------------------+-----+--------------------+--------------------+\n",
            "|                text|label|      extracted_text|             tokened|\n",
            "+--------------------+-----+--------------------+--------------------+\n",
            "|dear american tee...|    0|dear american tee...|[dear, american, ...|\n",
            "|nothing look forw...|    1|nothing look forw...|[nothing, look, f...|\n",
            "|music recommendat...|    0|music recommendat...|[music, recommend...|\n",
            "|im done trying fe...|    1|i am done trying ...|[i, am, done, try...|\n",
            "|worried  year old...|    1|worried  year old...|[worried, , year,...|\n",
            "|hey rredflag sure...|    1|hey rredflag sure...|[hey, rredflag, s...|\n",
            "|feel like someone...|    0|feel like someone...|[feel, like, some...|\n",
            "|deserve liveif di...|    1|deserve liveif di...|[deserve, liveif,...|\n",
            "|feels good ive se...|    1|feels good i have...|[feels, good, i, ...|\n",
            "|live guiltok made...|    1|live guiltok made...|[live, guiltok, m...|\n",
            "|excercise motivat...|    0|excercise motivat...|[excercise, motiv...|\n",
            "|know youd rather ...|    0|know you would ra...|[know, you, would...|\n",
            "|even time fuck  s...|    0|even time fuck  s...|[even, time, fuck...|\n",
            "|usual hollywood s...|    0|usual hollywood s...|[usual, hollywood...|\n",
            "|think it nearly u...|    0|think it nearly u...|[think, it, nearl...|\n",
            "+--------------------+-----+--------------------+--------------------+\n",
            "only showing top 15 rows\n",
            "\n"
          ]
        }
      ]
    },
    {
      "cell_type": "code",
      "source": [
        "import nltk\n",
        "nltk.download('stopwords')\n",
        "stopwords_remover = StopWordsRemover(inputCol=\"tokened\", outputCol=\"filtered\")\n",
        "\n",
        "# Fit and transform the DataFrame\n",
        "df = stopwords_remover.transform(df)\n"
      ],
      "metadata": {
        "id": "5IcDhphgYcOW",
        "colab": {
          "base_uri": "https://localhost:8080/"
        },
        "outputId": "497ff050-2628-4996-bb02-9f8835eeeac2"
      },
      "execution_count": 37,
      "outputs": [
        {
          "output_type": "stream",
          "name": "stderr",
          "text": [
            "[nltk_data] Downloading package stopwords to /root/nltk_data...\n",
            "[nltk_data]   Package stopwords is already up-to-date!\n"
          ]
        }
      ]
    },
    {
      "cell_type": "code",
      "source": [
        "df.show(15)"
      ],
      "metadata": {
        "colab": {
          "base_uri": "https://localhost:8080/"
        },
        "id": "pDAYt_c6fJoL",
        "outputId": "29e694d0-10e8-4065-e611-227e8330b8c2"
      },
      "execution_count": 38,
      "outputs": [
        {
          "output_type": "stream",
          "name": "stdout",
          "text": [
            "+--------------------+-----+--------------------+--------------------+--------------------+\n",
            "|                text|label|      extracted_text|             tokened|            filtered|\n",
            "+--------------------+-----+--------------------+--------------------+--------------------+\n",
            "|dear american tee...|    0|dear american tee...|[dear, american, ...|[dear, american, ...|\n",
            "|nothing look forw...|    1|nothing look forw...|[nothing, look, f...|[nothing, look, f...|\n",
            "|music recommendat...|    0|music recommendat...|[music, recommend...|[music, recommend...|\n",
            "|im done trying fe...|    1|i am done trying ...|[i, am, done, try...|[done, trying, fe...|\n",
            "|worried  year old...|    1|worried  year old...|[worried, , year,...|[worried, , year,...|\n",
            "|hey rredflag sure...|    1|hey rredflag sure...|[hey, rredflag, s...|[hey, rredflag, s...|\n",
            "|feel like someone...|    0|feel like someone...|[feel, like, some...|[feel, like, some...|\n",
            "|deserve liveif di...|    1|deserve liveif di...|[deserve, liveif,...|[deserve, liveif,...|\n",
            "|feels good ive se...|    1|feels good i have...|[feels, good, i, ...|[feels, good, set...|\n",
            "|live guiltok made...|    1|live guiltok made...|[live, guiltok, m...|[live, guiltok, m...|\n",
            "|excercise motivat...|    0|excercise motivat...|[excercise, motiv...|[excercise, motiv...|\n",
            "|know youd rather ...|    0|know you would ra...|[know, you, would...|[know, rather, la...|\n",
            "|even time fuck  s...|    0|even time fuck  s...|[even, time, fuck...|[even, time, fuck...|\n",
            "|usual hollywood s...|    0|usual hollywood s...|[usual, hollywood...|[usual, hollywood...|\n",
            "|think it nearly u...|    0|think it nearly u...|[think, it, nearl...|[think, nearly, u...|\n",
            "+--------------------+-----+--------------------+--------------------+--------------------+\n",
            "only showing top 15 rows\n",
            "\n"
          ]
        }
      ]
    },
    {
      "cell_type": "code",
      "source": [
        "from nltk import pos_tag\n",
        "from nltk.stem import WordNetLemmatizer\n",
        "from nltk.corpus import wordnet\n",
        "from pyspark.sql.functions import udf, transform\n",
        "\n",
        "nltk.download('wordnet')\n",
        "\n",
        "def penn2morphy(penntag):\n",
        "   \"\"\" Converts Penn Treebank tags to WordNet. \"\"\"\n",
        "   morphy_tag = {'NN':'n', 'JJ':'a', 'VB':'v', 'RB':'r'}\n",
        "   try:\n",
        "       return morphy_tag[penntag[:2]]\n",
        "   except:\n",
        "       return 'n'\n",
        "\n",
        "def lemmatize(words):\n",
        "   lemmatizer = WordNetLemmatizer()\n",
        "   return [lemmatizer.lemmatize(word.lower(), pos=penn2morphy(tag))\n",
        "           for word, tag in pos_tag(words)]\n",
        "\n",
        "lemmatize_udf = udf(lemmatize, ArrayType(StringType()))\n",
        "\n",
        "df = df.withColumn('lemmatized', lemmatize_udf(df['filtered']))"
      ],
      "metadata": {
        "colab": {
          "base_uri": "https://localhost:8080/"
        },
        "id": "ixvZC2yWfzk8",
        "outputId": "932ad55d-e094-4101-9cce-15a9e5feb81d"
      },
      "execution_count": 40,
      "outputs": [
        {
          "output_type": "stream",
          "name": "stderr",
          "text": [
            "[nltk_data] Downloading package wordnet to /root/nltk_data...\n",
            "[nltk_data]   Package wordnet is already up-to-date!\n"
          ]
        }
      ]
    },
    {
      "cell_type": "code",
      "source": [
        "df.show(20)"
      ],
      "metadata": {
        "colab": {
          "base_uri": "https://localhost:8080/"
        },
        "id": "dVD8D79Vizzs",
        "outputId": "8c7bfa3d-236a-4382-eb9b-46816f0ccc9c"
      },
      "execution_count": 41,
      "outputs": [
        {
          "output_type": "stream",
          "name": "stdout",
          "text": [
            "+--------------------+-----+--------------------+--------------------+--------------------+--------------------+\n",
            "|                text|label|      extracted_text|             tokened|            filtered|          lemmatized|\n",
            "+--------------------+-----+--------------------+--------------------+--------------------+--------------------+\n",
            "|dear american tee...|    0|dear american tee...|[dear, american, ...|[dear, american, ...|[dear, american, ...|\n",
            "|nothing look forw...|    1|nothing look forw...|[nothing, look, f...|[nothing, look, f...|[nothing, look, f...|\n",
            "|music recommendat...|    0|music recommendat...|[music, recommend...|[music, recommend...|[music, recommend...|\n",
            "|im done trying fe...|    1|i am done trying ...|[i, am, done, try...|[done, trying, fe...|[do, try, feel, b...|\n",
            "|worried  year old...|    1|worried  year old...|[worried, , year,...|[worried, , year,...|[worry, , year, o...|\n",
            "|hey rredflag sure...|    1|hey rredflag sure...|[hey, rredflag, s...|[hey, rredflag, s...|[hey, rredflag, s...|\n",
            "|feel like someone...|    0|feel like someone...|[feel, like, some...|[feel, like, some...|[feel, like, some...|\n",
            "|deserve liveif di...|    1|deserve liveif di...|[deserve, liveif,...|[deserve, liveif,...|[deserve, liveif,...|\n",
            "|feels good ive se...|    1|feels good i have...|[feels, good, i, ...|[feels, good, set...|[feel, good, set,...|\n",
            "|live guiltok made...|    1|live guiltok made...|[live, guiltok, m...|[live, guiltok, m...|[live, guiltok, m...|\n",
            "|excercise motivat...|    0|excercise motivat...|[excercise, motiv...|[excercise, motiv...|[excercise, motiv...|\n",
            "|know youd rather ...|    0|know you would ra...|[know, you, would...|[know, rather, la...|[know, rather, la...|\n",
            "|even time fuck  s...|    0|even time fuck  s...|[even, time, fuck...|[even, time, fuck...|[even, time, fuck...|\n",
            "|usual hollywood s...|    0|usual hollywood s...|[usual, hollywood...|[usual, hollywood...|[usual, hollywood...|\n",
            "|think it nearly u...|    0|think it nearly u...|[think, it, nearl...|[think, nearly, u...|[think, nearly, u...|\n",
            "|trying rd time k ...|    0|trying rd time k ...|[trying, rd, time...|[trying, rd, time...|[try, rd, time, k...|\n",
            "|guy coming sure w...|    0|guy coming sure w...|[guy, coming, sur...|[guy, coming, sur...|[guy, come, sure,...|\n",
            "|one best episodes...|    0|one best episodes...|[one, best, episo...|[one, best, episo...|[one, best, episo...|\n",
            "|good byehey you k...|    1|good byehey you k...|[good, byehey, yo...|[good, byehey, kn...|[good, byehey, kn...|\n",
            "|tried put sugar c...|    1|tried put sugar c...|[tried, put, suga...|[tried, put, suga...|[try, put, sugar,...|\n",
            "+--------------------+-----+--------------------+--------------------+--------------------+--------------------+\n",
            "only showing top 20 rows\n",
            "\n"
          ]
        }
      ]
    },
    {
      "cell_type": "code",
      "source": [
        "from pyspark.ml.feature import HashingTF, IDF, Tokenizer\n",
        "\n",
        "hashingTF = HashingTF(inputCol=\"lemmatized\", outputCol=\"rawFeatures\", numFeatures=1000)\n",
        "df = hashingTF.transform(df)\n",
        "\n",
        "idf = IDF(inputCol=\"rawFeatures\", outputCol=\"features\")\n",
        "idfModel = idf.fit(df)\n",
        "df = idfModel.transform(df)"
      ],
      "metadata": {
        "id": "eAgcuHjUi0x8"
      },
      "execution_count": 42,
      "outputs": []
    },
    {
      "cell_type": "code",
      "source": [
        "df.show(5)"
      ],
      "metadata": {
        "colab": {
          "base_uri": "https://localhost:8080/"
        },
        "id": "aVweGkxck5TM",
        "outputId": "12f62fc9-7f14-4096-d8c3-48aed7953b05"
      },
      "execution_count": 43,
      "outputs": [
        {
          "output_type": "stream",
          "name": "stdout",
          "text": [
            "+--------------------+-----+--------------------+--------------------+--------------------+--------------------+--------------------+--------------------+\n",
            "|                text|label|      extracted_text|             tokened|            filtered|          lemmatized|         rawFeatures|            features|\n",
            "+--------------------+-----+--------------------+--------------------+--------------------+--------------------+--------------------+--------------------+\n",
            "|dear american tee...|    0|dear american tee...|[dear, american, ...|[dear, american, ...|[dear, american, ...|(1000,[94,249,326...|(1000,[94,249,326...|\n",
            "|nothing look forw...|    1|nothing look forw...|[nothing, look, f...|[nothing, look, f...|[nothing, look, f...|(1000,[53,115,133...|(1000,[53,115,133...|\n",
            "|music recommendat...|    0|music recommendat...|[music, recommend...|[music, recommend...|[music, recommend...|(1000,[15,70,82,8...|(1000,[15,70,82,8...|\n",
            "|im done trying fe...|    1|i am done trying ...|[i, am, done, try...|[done, trying, fe...|[do, try, feel, b...|(1000,[69,87,114,...|(1000,[69,87,114,...|\n",
            "|worried  year old...|    1|worried  year old...|[worried, , year,...|[worried, , year,...|[worry, , year, o...|(1000,[0,7,15,16,...|(1000,[0,7,15,16,...|\n",
            "+--------------------+-----+--------------------+--------------------+--------------------+--------------------+--------------------+--------------------+\n",
            "only showing top 5 rows\n",
            "\n"
          ]
        }
      ]
    },
    {
      "cell_type": "code",
      "source": [
        "df = df.drop('tokened')\n",
        "df = df.drop('filtered')\n",
        "df = df.drop('lemmatized')\n",
        "df = df.drop('extracted_text')"
      ],
      "metadata": {
        "id": "slD7U7_wme3U"
      },
      "execution_count": 44,
      "outputs": []
    },
    {
      "cell_type": "code",
      "source": [
        "df.show(5)"
      ],
      "metadata": {
        "colab": {
          "base_uri": "https://localhost:8080/"
        },
        "id": "2NyMkcH4mt-L",
        "outputId": "d0d0071a-0410-4f96-f167-f9e8beed5a21"
      },
      "execution_count": 45,
      "outputs": [
        {
          "output_type": "stream",
          "name": "stdout",
          "text": [
            "+--------------------+-----+--------------------+--------------------+\n",
            "|                text|label|         rawFeatures|            features|\n",
            "+--------------------+-----+--------------------+--------------------+\n",
            "|dear american tee...|    0|(1000,[94,249,326...|(1000,[94,249,326...|\n",
            "|nothing look forw...|    1|(1000,[53,115,133...|(1000,[53,115,133...|\n",
            "|music recommendat...|    0|(1000,[15,70,82,8...|(1000,[15,70,82,8...|\n",
            "|im done trying fe...|    1|(1000,[69,87,114,...|(1000,[69,87,114,...|\n",
            "|worried  year old...|    1|(1000,[0,7,15,16,...|(1000,[0,7,15,16,...|\n",
            "+--------------------+-----+--------------------+--------------------+\n",
            "only showing top 5 rows\n",
            "\n"
          ]
        }
      ]
    },
    {
      "cell_type": "code",
      "source": [
        "(train, test) = df.randomSplit([0.8,0.2])"
      ],
      "metadata": {
        "id": "pqDYAeXlk6Sy"
      },
      "execution_count": 46,
      "outputs": []
    },
    {
      "cell_type": "code",
      "source": [
        "from pyspark.ml.classification import GBTClassifier\n",
        "from pyspark.ml.evaluation import MulticlassClassificationEvaluator\n",
        "gb = GBTClassifier(labelCol = 'label', featuresCol = 'features')\n",
        "gbModel = gb.fit(train)\n",
        "gb_predictions = gbModel.transform(test)"
      ],
      "metadata": {
        "id": "HlXtCLGym0yz"
      },
      "execution_count": 47,
      "outputs": []
    },
    {
      "cell_type": "code",
      "source": [
        "gb_predictions.show(5)"
      ],
      "metadata": {
        "id": "K6xdlB45qC-T",
        "colab": {
          "base_uri": "https://localhost:8080/"
        },
        "outputId": "69585e12-9202-4304-ab7e-ecddbcc68336"
      },
      "execution_count": 48,
      "outputs": [
        {
          "output_type": "stream",
          "name": "stdout",
          "text": [
            "+--------------------+-----+--------------------+--------------------+--------------------+--------------------+----------+\n",
            "|                text|label|         rawFeatures|            features|       rawPrediction|         probability|prediction|\n",
            "+--------------------+-----+--------------------+--------------------+--------------------+--------------------+----------+\n",
            "|                    |    0|        (1000,[],[])|        (1000,[],[])|[0.84071643292209...|[0.84309417295924...|       0.0|\n",
            "|                    |    1|        (1000,[],[])|        (1000,[],[])|[0.84071643292209...|[0.84309417295924...|       0.0|\n",
            "|  floorstheres ap...|    1|(1000,[17,44,126,...|(1000,[17,44,126,...|[1.05541017948121...|[0.89195042064984...|       0.0|\n",
            "|  im still horndo...|    0|(1000,[25,179,204...|(1000,[25,179,204...|[0.89701560037038...|[0.85742080272262...|       0.0|\n",
            "|  literally grow ...|    0|(1000,[372,404,41...|(1000,[372,404,41...|[0.87098807973272...|[0.85093790052875...|       0.0|\n",
            "+--------------------+-----+--------------------+--------------------+--------------------+--------------------+----------+\n",
            "only showing top 5 rows\n",
            "\n"
          ]
        }
      ]
    },
    {
      "cell_type": "code",
      "source": [
        "multi_evaluator = MulticlassClassificationEvaluator(labelCol = 'label', metricName = 'accuracy')\n",
        "print('Accuracy:', multi_evaluator.evaluate(gb_predictions))"
      ],
      "metadata": {
        "id": "MlDNK4f3qI7K",
        "colab": {
          "base_uri": "https://localhost:8080/"
        },
        "outputId": "b388d6a4-a367-45db-d5ec-2b71e0c4da8c"
      },
      "execution_count": 49,
      "outputs": [
        {
          "output_type": "stream",
          "name": "stdout",
          "text": [
            "Accuracy: 0.8234979497236584\n"
          ]
        }
      ]
    },
    {
      "cell_type": "code",
      "source": [
        "from pyspark.ml.feature import StringIndexer\n",
        "from pyspark.ml import Pipeline"
      ],
      "metadata": {
        "id": "UsSAsVn_JVUv"
      },
      "execution_count": 50,
      "outputs": []
    },
    {
      "cell_type": "code",
      "source": [
        "# Function to predict mental health without pipelineFit.transform(input_df)\n",
        "def predict_mental_health_spark(features_df):\n",
        "    # Make the prediction\n",
        "    prediction = gbModel.transform(features_df)\n",
        "\n",
        "    # Assuming the prediction column is named 'prediction'\n",
        "    result = prediction.select(\"prediction\").collect()[0][\"prediction\"]\n",
        "    return int(result)"
      ],
      "metadata": {
        "id": "OifcTN0y8GLH"
      },
      "execution_count": 51,
      "outputs": []
    },
    {
      "cell_type": "code",
      "source": [
        "# Manual Input and Prediction\n",
        "user_input = input(\"Enter a text to predict if it contains mental health or not: \")\n",
        "\n",
        "# Assuming you've already tokenized, hashed, and applied TF-IDF to the user_input\n",
        "user_features_df = df  # Your preprocessed features dataframe\n",
        "\n",
        "prediction = predict_mental_health_spark(user_features_df)\n",
        "\n",
        "if prediction == 1:\n",
        "    print(\"The input suggests positive mental health.\")\n",
        "else:\n",
        "    print(\"The input suggests negative mental health\")\n"
      ],
      "metadata": {
        "id": "nreSBTmr_CK-",
        "colab": {
          "base_uri": "https://localhost:8080/"
        },
        "outputId": "3e12a9cf-5b38-4479-c85c-23a769c60cf6"
      },
      "execution_count": 52,
      "outputs": [
        {
          "output_type": "stream",
          "name": "stdout",
          "text": [
            "Enter a text to predict if it contains mental health or not: eat sleep gaming\n",
            "The input suggests negative mental health\n"
          ]
        }
      ]
    }
  ]
}